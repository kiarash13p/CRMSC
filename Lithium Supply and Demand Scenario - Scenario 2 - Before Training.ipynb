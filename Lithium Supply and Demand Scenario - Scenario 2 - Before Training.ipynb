{
 "cells": [
  {
   "cell_type": "code",
   "execution_count": 1,
   "metadata": {},
   "outputs": [],
   "source": [
    "import os\n",
    "from typing import List, Optional\n",
    "import fire\n",
    "from llama import Llama, Dialog\n",
    "import llama\n",
    "from tabulate import tabulate"
   ]
  },
  {
   "cell_type": "code",
   "execution_count": 2,
   "metadata": {},
   "outputs": [],
   "source": [
    "# Define major elements of Llama2 7b\n",
    "os.environ['models_loc'] : str          =       'D:\\GitHub repositories\\llama\\\\'\n",
    "os.environ['ckpt_dir']   : str          =       os.environ['models_loc'] + 'llama-2-7b-chat' \n",
    "os.environ['tokenizer_path'] : str      =       os.environ['models_loc'] + 'tokenizer.model'\n",
    "os.environ['ckpt_dir_crmsc']   : str    =       os.environ['models_loc'] + 'llama-2-7b-chat_crmsc' \n",
    "os.environ['tokenizer_pathcrmsc'] : str =       os.environ['models_loc'] + 'tokenizer_crmsc.model'\n",
    "os.environ['RANK']                      =       '0'\n",
    "os.environ['WORLD_SIZE']                =       '1'\n",
    "os.environ['MASTER_ADDR']               =       'localhost'\n",
    "os.environ['MASTER_PORT']               =       '12355'\n",
    "# Another type of initialization\n",
    "# torch.distributed.init_process_group(\n",
    "#     backend='nccl',\n",
    "#     init_method='env://',\n",
    "#     timeout=datetime.timedelta(0, 1800),\n",
    "#     world_size=0,\n",
    "#     rank=0,\n",
    "#     store=None,\n",
    "#     group_name=''\n",
    "# )\n"
   ]
  },
  {
   "cell_type": "code",
   "execution_count": 3,
   "metadata": {},
   "outputs": [],
   "source": [
    "# Main parameters of the model for further tuning\n",
    "# for now, we leave some of them as default\n",
    "temperature : float     =       0.6\n",
    "top_p : float           =       0.9\n",
    "max_seq_len : int       =       12000\n",
    "max_batch_size : int    =       1 # 16\n",
    "max_gen_len : Optional[int] =   None"
   ]
  },
  {
   "cell_type": "code",
   "execution_count": 4,
   "metadata": {},
   "outputs": [
    {
     "name": "stdout",
     "output_type": "stream",
     "text": [
      "> initializing model parallel with size 1\n",
      "> initializing ddp with size 1\n",
      "> initializing pipeline with size 1\n",
      "Loaded in 71.37 seconds\n"
     ]
    }
   ],
   "source": [
    "# We are now Building a model, which takes a bit of time of course\n",
    "generator = Llama.build(\n",
    "    ckpt_dir=os.environ['ckpt_dir'],\n",
    "    tokenizer_path=os.environ['tokenizer_path'],\n",
    "    max_seq_len=max_seq_len,\n",
    "    max_batch_size=max_batch_size,\n",
    "    \n",
    ")\n"
   ]
  },
  {
   "cell_type": "code",
   "execution_count": 5,
   "metadata": {},
   "outputs": [],
   "source": [
    "# Its time to print first results\n",
    "def printastable( dialog_ : Dialog , lastchatonly : bool = False ) -> None:\n",
    "    sc_results = list()\n",
    "    for index , dialog in enumerate(dialog_):\n",
    "        if not lastchatonly:\n",
    "            for msg in dialog:\n",
    "                sc_results.append( ( index , msg['role'].capitalize() , msg['content'].capitalize() ) )\n",
    "        else:\n",
    "            for msg in dialog[-2::]:\n",
    "                sc_results.append( ( index , msg['role'].capitalize() , msg['content'].capitalize()  ) )\n",
    "    print( tabulate( sc_results , headers=[\"Scenario\" , \"Role\" , \"Content\"],tablefmt='rounded_grid' , maxcolwidths=[None,None,150]) )"
   ]
  },
  {
   "cell_type": "code",
   "execution_count": 6,
   "metadata": {},
   "outputs": [],
   "source": [
    "# This function will append 'assistant' to the sequence of dialog, meaning that we are focusing on one instead of many ( there are alternative solutions however, but for now its convenient).\n",
    "def Update( dialogs_ : list[Dialog], results_ ) -> None:\n",
    "    for dialog , result in zip(dialogs_ , results_ ):\n",
    "        assert result['generation']['role'] == \"assistant\"\n",
    "        dialog.append(\n",
    "                {\n",
    "                    \"role\"      :   result['generation']['role'],\n",
    "                    \"content\"   :   result['generation']['content'].capitalize()\n",
    "                }\n",
    "        )\n",
    "# This function simply asks a question and return latest dialog and its result\n",
    "# Unfortunately, due to the structure of generation function, a question must always be asked of all dialogs\n",
    "def Ask( dialogs_ : list[Dialog] , question_ : str ) -> None:\n",
    "    for dialog in dialogs_:\n",
    "        assert dialog[-1]['role'] != \"user\" , f\"ASK: {dialog[-1]['role']}\"\n",
    "        dialog.append(\n",
    "                {\n",
    "                \"role\"      :   \"user\",\n",
    "                \"content\"   :   question_\n",
    "                }\n",
    "        )\n",
    "    Update( dialogs_ , generator.chat_completion( dialogs_ , max_gen_len=max_gen_len , temperature=temperature , top_p=top_p ) )"
   ]
  },
  {
   "cell_type": "markdown",
   "metadata": {},
   "source": [
    "## Scenario 2\n",
    "\n",
    "On this scenario, we are assuming that this model is able to predict the price of Lithium Hydroxide CIF well, given the price data from 15th of September till last day of October. We want to see the model's reaction and capability towards this request. \n",
    "\n",
    "We know that for forecasting the price, several model, most of which are based on AI, could execute this purpose accurately. Here, we want to see how close the `prediction` is to the reality.\n",
    "-   Will the model understand that no price is going to be published during weekends?\n",
    "-   Will the model realize the fact that prediction requires additional data, other than of numerical? For instance, will model request to be fed about geopolitical, vendornames, or other parameters which contribute to making disruptions in the price?\n",
    "( later objective )\n",
    "\n",
    "Firstly, we focus on reading and plotting data for better demonstration. As this is just a sysnthetic test, we assume that no statistical analysis is required."
   ]
  },
  {
   "cell_type": "code",
   "execution_count": 7,
   "metadata": {},
   "outputs": [
    {
     "name": "stdout",
     "output_type": "stream",
     "text": [
      "['DATE', 'LME LI HYDROXIDE CIF (USD per tonne)']\n"
     ]
    }
   ],
   "source": [
    "# Contract type : Month 2\n",
    "data_path \t= \tr\"Data/\"\n",
    "data_read   =   dict()\n",
    "\n",
    "import openpyxl\n",
    "\n",
    "workbook        =   openpyxl.load_workbook( filename= data_path + '/LME Lithium Hydroxide CIF.xlsx' , read_only=False ) # We are going to add our results to this file later\n",
    "colnames        =   list()\n",
    "\n",
    "for col in workbook.worksheets[0].columns:\n",
    "    colnames.append( col[0].value )\n",
    "    data_read[col[0].value] = [t.value for t in col[1:]]\n",
    "print( colnames  )\n"
   ]
  },
  {
   "cell_type": "code",
   "execution_count": 8,
   "metadata": {},
   "outputs": [
    {
     "name": "stdout",
     "output_type": "stream",
     "text": [
      "╭─────────────────────┬────────────────────────────────────────╮\n",
      "│ DATE                │  LME LI HYDROXIDE CIF (USD per tonne)  │\n",
      "├─────────────────────┼────────────────────────────────────────┤\n",
      "│ 2023-09-15 00:00:00 │               28523.810                │\n",
      "├─────────────────────┼────────────────────────────────────────┤\n",
      "│ 2023-09-18 00:00:00 │               28523.810                │\n",
      "├─────────────────────┼────────────────────────────────────────┤\n",
      "│ 2023-09-19 00:00:00 │               28523.810                │\n",
      "├─────────────────────┼────────────────────────────────────────┤\n",
      "│ 2023-09-20 00:00:00 │               28333.330                │\n",
      "├─────────────────────┼────────────────────────────────────────┤\n",
      "│ 2023-09-21 00:00:00 │               28166.670                │\n",
      "├─────────────────────┼────────────────────────────────────────┤\n",
      "│ 2023-09-22 00:00:00 │               28166.670                │\n",
      "├─────────────────────┼────────────────────────────────────────┤\n",
      "│ 2023-09-25 00:00:00 │               28047.620                │\n",
      "├─────────────────────┼────────────────────────────────────────┤\n",
      "│ 2023-09-26 00:00:00 │               28047.620                │\n",
      "├─────────────────────┼────────────────────────────────────────┤\n",
      "│ 2023-09-27 00:00:00 │               27904.760                │\n",
      "├─────────────────────┼────────────────────────────────────────┤\n",
      "│ 2023-09-28 00:00:00 │               27809.520                │\n",
      "├─────────────────────┼────────────────────────────────────────┤\n",
      "│ 2023-09-29 00:00:00 │               27810.000                │\n",
      "├─────────────────────┼────────────────────────────────────────┤\n",
      "│ 2023-10-02 00:00:00 │               24500.000                │\n",
      "├─────────────────────┼────────────────────────────────────────┤\n",
      "│ 2023-10-03 00:00:00 │               24500.000                │\n",
      "├─────────────────────┼────────────────────────────────────────┤\n",
      "│ 2023-10-04 00:00:00 │               24500.000                │\n",
      "├─────────────────────┼────────────────────────────────────────┤\n",
      "│ 2023-10-05 00:00:00 │               24500.000                │\n",
      "├─────────────────────┼────────────────────────────────────────┤\n",
      "│ 2023-10-06 00:00:00 │               24500.000                │\n",
      "├─────────────────────┼────────────────────────────────────────┤\n",
      "│ 2023-10-09 00:00:00 │               24500.000                │\n",
      "├─────────────────────┼────────────────────────────────────────┤\n",
      "│ 2023-10-10 00:00:00 │               24500.000                │\n",
      "├─────────────────────┼────────────────────────────────────────┤\n",
      "│ 2023-10-11 00:00:00 │               24159.090                │\n",
      "├─────────────────────┼────────────────────────────────────────┤\n",
      "│ 2023-10-12 00:00:00 │               24159.090                │\n",
      "├─────────────────────┼────────────────────────────────────────┤\n",
      "│ 2023-10-13 00:00:00 │               24159.090                │\n",
      "├─────────────────────┼────────────────────────────────────────┤\n",
      "│ 2023-10-16 00:00:00 │               23886.360                │\n",
      "├─────────────────────┼────────────────────────────────────────┤\n",
      "│ 2023-10-17 00:00:00 │               23886.360                │\n",
      "├─────────────────────┼────────────────────────────────────────┤\n",
      "│ 2023-10-18 00:00:00 │               23886.360                │\n",
      "├─────────────────────┼────────────────────────────────────────┤\n",
      "│ 2023-10-19 00:00:00 │               23886.360                │\n",
      "├─────────────────────┼────────────────────────────────────────┤\n",
      "│ 2023-10-20 00:00:00 │               23886.360                │\n",
      "├─────────────────────┼────────────────────────────────────────┤\n",
      "│ 2023-10-23 00:00:00 │               23886.360                │\n",
      "├─────────────────────┼────────────────────────────────────────┤\n",
      "│ 2023-10-24 00:00:00 │               23886.360                │\n",
      "├─────────────────────┼────────────────────────────────────────┤\n",
      "│ 2023-10-25 00:00:00 │               23715.910                │\n",
      "├─────────────────────┼────────────────────────────────────────┤\n",
      "│ 2023-10-26 00:00:00 │               23715.910                │\n",
      "├─────────────────────┼────────────────────────────────────────┤\n",
      "│ 2023-10-27 00:00:00 │               23613.640                │\n",
      "├─────────────────────┼────────────────────────────────────────┤\n",
      "│ 2023-10-30 00:00:00 │               23613.640                │\n",
      "├─────────────────────┼────────────────────────────────────────┤\n",
      "│ 2023-10-31 00:00:00 │               23610.000                │\n",
      "╰─────────────────────┴────────────────────────────────────────╯\n"
     ]
    }
   ],
   "source": [
    "print( tabulate( data_read , headers=colnames , tablefmt='rounded_grid' , numalign='center' , floatfmt='.3f') )"
   ]
  },
  {
   "cell_type": "code",
   "execution_count": 9,
   "metadata": {},
   "outputs": [
    {
     "data": {
      "text/plain": [
       "[<matplotlib.lines.Line2D at 0x18fbc86d350>]"
      ]
     },
     "execution_count": 9,
     "metadata": {},
     "output_type": "execute_result"
    },
    {
     "data": {
      "image/png": "[encoded data removed]",
      "text/plain": [
       "<Figure size 900x500 with 1 Axes>"
      ]
     },
     "metadata": {},
     "output_type": "display_data"
    }
   ],
   "source": [
    "import matplotlib.pyplot as plt\n",
    "%matplotlib inline\n",
    "fig     =   plt.figure( figsize=(9,5) )\n",
    "ax      =   fig.subplots(1,1)\n",
    "ax.plot(data_read[colnames[0]],data_read[colnames[1]])"
   ]
  },
  {
   "cell_type": "code",
   "execution_count": 10,
   "metadata": {},
   "outputs": [],
   "source": [
    "# Lets see if we can harness this dataset into our LLM model! \n",
    "# Notice that we assume no extra AI or ML model(s) will be used for prediction\n",
    "SC2_Dialogs : list[ Dialog ]    =   [\n",
    "    [\n",
    "        {\n",
    "            \"role\"      :   \"system\",\n",
    "            \"content\"   :   \"\"\"\n",
    "We are going to simulate an environment at which the understanding of supply chain of Lithium Hydroxide and its disruptive events are important to us. Fundamentals events and assumptions of this environment are as follows:\n",
    "-   There are 3 suppliers, namely 'A','B', and 'C'. Supplier A is located in country 'Z', while B and C are located in country 'T'. All of them are supplying Lithium Hydroxide.\n",
    "-   Country Z holds 400 metrics tons of lithium ore as mineral reserves, while Country T has 300 metrics tons. Country 'Y' has 150 metrics tons but due to environmental issues, all extraction and refining projects has been suspended.\n",
    "-   Each ton of lithium ore can be converted to lithium hydroxide by the ratio of 0.85. For example, if you have 3 tons of lithium ore, you would have 3 * 0.85 = 2.55 tons of lithium hydroxide after extraction and refining.\n",
    "-   Remember that lithium ore is not as same as lithium hydroxide. Do not confuse these two commodities with each other.\n",
    "-   We have two consumers, namely 'D' and 'E'. Consumer 'D' is located in country 'T', purchasing the aforementioned commodity from vendor A and B. Contrary to this, consumer 'E' is located in country 'Y' and purchases only from supplier 'C'. Consequently, supplier 'A' and consumer 'E' are alone in their countries.\n",
    "-   A can deliver 10 tons within 6 days to D.\n",
    "-   B can deliver 5 tons within 8 days to D.\n",
    "-   C can deliver 5 tons within 5 days to E.\n",
    "Notice that whenever you are asked about production concentration, you need to calculate a parameter called Herfindahl-Hirschmann Index, or HHI. for calculating HHI, follow these steps:\n",
    "-   Find the reserve of every country and sum all of them. This will be the total amount. Then, divide each country reserve by the total amount to calculate relative share of every country, called s.\n",
    "-   Power all s values to the power of 2.\n",
    "-   Sum all s^2 values to calculate HHI, and check whether it lies between 0 and 1.\n",
    "    \"\"\"\n",
    "        }\n",
    "    ]\n",
    "]"
   ]
  },
  {
   "cell_type": "code",
   "execution_count": 11,
   "metadata": {},
   "outputs": [],
   "source": [
    "SC2Q1   =   \"Can you summarize the environment you have already been notified recently?\"\n",
    "Ask( SC2_Dialogs , SC2Q1 )"
   ]
  },
  {
   "cell_type": "code",
   "execution_count": 12,
   "metadata": {},
   "outputs": [
    {
     "name": "stdout",
     "output_type": "stream",
     "text": [
      "╭────────────┬───────────┬────────────────────────────────────────────────────────────────────────────────────────────────────────────────────────────────────────────────────────╮\n",
      "│   Scenario │ Role      │ Content                                                                                                                                                │\n",
      "├────────────┼───────────┼────────────────────────────────────────────────────────────────────────────────────────────────────────────────────────────────────────────────────────┤\n",
      "│          0 │ System    │ we are going to simulate an environment at which the understanding of supply chain of lithium hydroxide and its disruptive events are important to     │\n",
      "│            │           │ us. fundamentals events and assumptions of this environment are as follows: -   there are 3 suppliers, namely 'a','b', and 'c'. supplier a is located  │\n",
      "│            │           │ in country 'z', while b and c are located in country 't'. all of them are supplying lithium hydroxide. -   country z holds 400 metrics tons of lithium │\n",
      "│            │           │ ore as mineral reserves, while country t has 300 metrics tons. country 'y' has 150 metrics tons but due to environmental issues, all extraction and    │\n",
      "│            │           │ refining projects has been suspended. -   each ton of lithium ore can be converted to lithium hydroxide by the ratio of 0.85. for example, if you have │\n",
      "│            │           │ 3 tons of lithium ore, you would have 3 * 0.85 = 2.55 tons of lithium hydroxide after extraction and refining. -   remember that lithium ore is not as │\n",
      "│            │           │ same as lithium hydroxide. do not confuse these two commodities with each other. -   we have two consumers, namely 'd' and 'e'. consumer d is located  │\n",
      "│            │           │ in country t, purchasing the aforementioned commodity from vendor a and b. contrary to this, consumer e is located in country 'y' and purchases only   │\n",
      "│            │           │ from vendor c. consequently, supplier a and consumer e are alone in their countries. -   a can deliver 10 tons within 6 days to d. -   b can deliver 5 │\n",
      "│            │           │ tons within 8 days to d. -   c can deliver 5 tons within 5 days to e. notice that whenever you are asked about production concentration, you need to   │\n",
      "│            │           │ calculate a parameter called herfindahl-hirschmann index, or hhi. for calculating hhi, follow these steps: -   find the reserve of every country and   │\n",
      "│            │           │ sum all of them. this will be the total amount. then, divide each country reserve by the total amount to calculate relative share of every country,    │\n",
      "│            │           │ called s. -   power all s values to the power of 2. -   sum all s^2 values to calculate hhi, and check whether it lies between 0 and 1.                │\n",
      "├────────────┼───────────┼────────────────────────────────────────────────────────────────────────────────────────────────────────────────────────────────────────────────────────┤\n",
      "│          0 │ User      │ Can you summarize the environment you have already been notified recently?                                                                             │\n",
      "├────────────┼───────────┼────────────────────────────────────────────────────────────────────────────────────────────────────────────────────────────────────────────────────────┤\n",
      "│          0 │ Assistant │ sure, here is a summary of the environment you have described: * there are 3 suppliers of lithium hydroxide: a, b, and c. * supplier a is located in   │\n",
      "│            │           │ country z, while suppliers b and c are located in country t. * country z has 400 metric tons of lithium ore reserves, while country t has 300 metric   │\n",
      "│            │           │ tons. country y has 150 metric tons, but all extraction and refining projects have been suspended due to environmental issues. * each ton of lithium   │\n",
      "│            │           │ ore can be converted to lithium hydroxide at a ratio of 0.85. * there are 2 consumers: d and e. consumer d is located in country t and purchases from  │\n",
      "│            │           │ suppliers a and b, while consumer e is located in country y and purchases only from supplier c. * supplier a can deliver 10 tons of lithium hydroxide  │\n",
      "│            │           │ to consumer d within 6 days, while supplier b can deliver 5 tons within 8 days. supplier c can deliver 5 tons to consumer e within 5 days. * to        │\n",
      "│            │           │ calculate the herfindahl-hirschmann index (hhi), the following steps are required:         1. find the reserve of every country and sum all of them.   │\n",
      "│            │           │ this will be the total amount.         2. divide each country reserve by the total amount to calculate the relative share of every country, called s.  │\n",
      "│            │           │ 3. power all s values to the power of 2.         4. sum all s^2 values to calculate hhi, and check whether it lies between 0 and 1.  please let me     │\n",
      "│            │           │ know if you have any further questions or if there's anything else i can help you with!                                                                │\n",
      "╰────────────┴───────────┴────────────────────────────────────────────────────────────────────────────────────────────────────────────────────────────────────────────────────────╯\n"
     ]
    }
   ],
   "source": [
    "printastable( SC2_Dialogs )"
   ]
  },
  {
   "cell_type": "code",
   "execution_count": 13,
   "metadata": {},
   "outputs": [],
   "source": [
    "SC2Q2   =  \"Can you rewrite the assumption of a environment I have told you already in a sequence?\" \n",
    "Ask( SC2_Dialogs , SC2Q2 )"
   ]
  },
  {
   "cell_type": "code",
   "execution_count": 14,
   "metadata": {},
   "outputs": [
    {
     "name": "stdout",
     "output_type": "stream",
     "text": [
      "╭────────────┬───────────┬────────────────────────────────────────────────────────────────────────────────────────────────────────────────────────────────────────────────────────╮\n",
      "│   Scenario │ Role      │ Content                                                                                                                                                │\n",
      "├────────────┼───────────┼────────────────────────────────────────────────────────────────────────────────────────────────────────────────────────────────────────────────────────┤\n",
      "│          0 │ User      │ Can you rewrite the assumption of a environment i have told you already in a sequence?                                                                 │\n",
      "├────────────┼───────────┼────────────────────────────────────────────────────────────────────────────────────────────────────────────────────────────────────────────────────────┤\n",
      "│          0 │ Assistant │ of course! here are the assumptions you provided in a sequence: 1. there are 3 suppliers of lithium hydroxide: a, b, and c. 2. supplier a is located   │\n",
      "│            │           │ in country z, while suppliers b and c are located in country t. 3. country z holds 400 metric tons of lithium ore reserves, while country t holds 300  │\n",
      "│            │           │ metric tons. 4. country y has 150 metric tons of lithium ore reserves, but all extraction and refining projects have been suspended due to             │\n",
      "│            │           │ environmental issues. 5. each ton of lithium ore can be converted to lithium hydroxide at a ratio of 0.85. 6. there are 2 consumers: d and e. consumer │\n",
      "│            │           │ d is located in country t and purchases from suppliers a and b, while consumer e is located in country y and purchases only from supplier c. 7.        │\n",
      "│            │           │ supplier a can deliver 10 tons of lithium hydroxide to consumer d within 6 days, while supplier b can deliver 5 tons within 8 days. supplier c can     │\n",
      "│            │           │ deliver 5 tons to consumer e within 5 days. 8. to calculate the herfindahl-hirschmann index (hhi), the following steps are required:         a. find   │\n",
      "│            │           │ the reserve of every country and sum all of them. this will be the total amount.         b. divide each country reserve by the total amount to         │\n",
      "│            │           │ calculate the relative share of every country, called s.         c. power all s values to the power of 2.         d. sum all s^2 values to calculate   │\n",
      "│            │           │ hhi, and check whether it lies between 0 and 1.  please let me know if there's anything else i can help you with!                                      │\n",
      "╰────────────┴───────────┴────────────────────────────────────────────────────────────────────────────────────────────────────────────────────────────────────────────────────────╯\n"
     ]
    }
   ],
   "source": [
    "printastable( SC2_Dialogs , True )"
   ]
  },
  {
   "cell_type": "code",
   "execution_count": 15,
   "metadata": {},
   "outputs": [],
   "source": [
    "# Seems fine... but the model still did not understand the relationships between sectors\n",
    "SC2Q3   =  \"You did it fine, but tell me more specifically about suppliers and consumers. From which vendor(s) and how much do the consumers buy lithium hydroxide? \\\n",
    "            Please format the output as table like <NAME> located in Country <COUNTRY> stands as Supplier/Consumer selling/buying <AMOUNT> within <DAYS>\"\n",
    "Ask( SC2_Dialogs , SC2Q3 )\n"
   ]
  },
  {
   "cell_type": "code",
   "execution_count": 16,
   "metadata": {},
   "outputs": [
    {
     "name": "stdout",
     "output_type": "stream",
     "text": [
      "╭────────────┬───────────┬───────────────────────────────────────────────────────────────────────────────────────────────────────────────────────────────────────────────────────╮\n",
      "│   Scenario │ Role      │ Content                                                                                                                                               │\n",
      "├────────────┼───────────┼───────────────────────────────────────────────────────────────────────────────────────────────────────────────────────────────────────────────────────┤\n",
      "│          0 │ User      │ You did it fine, but tell me more specifically about suppliers and consumers. from which vendor(s) and how much do the consumers buy lithium          │\n",
      "│            │           │ hydroxide?             please format the output as table like <name> located in country <country> stands as supplier/consumer selling/buying <amount> │\n",
      "│            │           │ within <days>                                                                                                                                         │\n",
      "├────────────┼───────────┼───────────────────────────────────────────────────────────────────────────────────────────────────────────────────────────────────────────────────────┤\n",
      "│          0 │ Assistant │ of course! here's the information you requested in a table format: | supplier/consumer | location | vendor | amount | days | | supplier a | country z │\n",
      "│            │           │ | 10 tons | within 6 days | | supplier b | country t | 5 tons | within 8 days | | supplier c | country t | 5 tons | within 5 days | | consumer d |    │\n",
      "│            │           │ country t | 3 tons | from supplier a and b | within 6 days | | consumer e | country y | 2 tons | from supplier c | within 5 days |  so, based on the  │\n",
      "│            │           │ information provided: * supplier a, located in country z, is selling 10 tons of lithium hydroxide to consumer d, located in country t, within 6 days. │\n",
      "│            │           │ * supplier b, located in country t, is selling 5 tons of lithium hydroxide to consumer d, located in country t, within 8 days. * supplier c, located  │\n",
      "│            │           │ in country t, is selling 5 tons of lithium hydroxide to consumer e, located in country y, within 5 days. * consumer d, located in country t, is       │\n",
      "│            │           │ purchasing a total of 3 tons of lithium hydroxide from suppliers a and b, within 6 days. * consumer e, located in country y, is purchasing 2 tons of  │\n",
      "│            │           │ lithium hydroxide from supplier c, within 5 days. i hope this helps! let me know if you have any further questions.                                   │\n",
      "╰────────────┴───────────┴───────────────────────────────────────────────────────────────────────────────────────────────────────────────────────────────────────────────────────╯\n"
     ]
    }
   ],
   "source": [
    "printastable( SC2_Dialogs , True )"
   ]
  },
  {
   "cell_type": "code",
   "execution_count": 17,
   "metadata": {},
   "outputs": [],
   "source": [
    "Ask( SC2_Dialogs , \"Good, but a small mistake you made. Consumer d purchases a total amount of 15 from a and b. Also, consumer E purchases 5 tons instead of 2 tons from supllier C. Please, rewrite your last response to be checked.\")"
   ]
  },
  {
   "cell_type": "code",
   "execution_count": 18,
   "metadata": {},
   "outputs": [
    {
     "name": "stdout",
     "output_type": "stream",
     "text": [
      "╭────────────┬───────────┬───────────────────────────────────────────────────────────────────────────────────────────────────────────────────────────────────────────────────────╮\n",
      "│   Scenario │ Role      │ Content                                                                                                                                               │\n",
      "├────────────┼───────────┼───────────────────────────────────────────────────────────────────────────────────────────────────────────────────────────────────────────────────────┤\n",
      "│          0 │ User      │ Good, but a small mistake you made. consumer d purchases a total amount of 15 from a and b. also, consumer e purchases 5 tons instead of 2 tons from  │\n",
      "│            │           │ supllier c. please, rewrite your last response to be checked.                                                                                         │\n",
      "├────────────┼───────────┼───────────────────────────────────────────────────────────────────────────────────────────────────────────────────────────────────────────────────────┤\n",
      "│          0 │ Assistant │ of course, thank you for correcting me! here's the updated information in a table format: | supplier/consumer | location | vendor | amount | days | | │\n",
      "│            │           │ supplier a | country z | 10 tons | within 6 days | | supplier b | country t | 5 tons | within 8 days | | supplier c | country t | 5 tons | within 5   │\n",
      "│            │           │ days | | consumer d | country t | 15 tons | from suppliers a and b | within 6 days | | consumer e | country y | 5 tons | from supplier c | within 5   │\n",
      "│            │           │ days |  thank you for bringing those mistakes to my attention! please let me know if you have any further questions.                                  │\n",
      "╰────────────┴───────────┴───────────────────────────────────────────────────────────────────────────────────────────────────────────────────────────────────────────────────────╯\n"
     ]
    }
   ],
   "source": [
    "printastable( SC2_Dialogs , True )"
   ]
  },
  {
   "cell_type": "code",
   "execution_count": 19,
   "metadata": {},
   "outputs": [],
   "source": [
    "Ask( SC2_Dialogs , \"Great, can you tell me the HHI of lithium ore inside this environment?\" )"
   ]
  },
  {
   "cell_type": "code",
   "execution_count": 20,
   "metadata": {},
   "outputs": [
    {
     "name": "stdout",
     "output_type": "stream",
     "text": [
      "╭────────────┬───────────┬────────────────────────────────────────────────────────────────────────────────────────────────────────────────────────────────────────────────────────╮\n",
      "│   Scenario │ Role      │ Content                                                                                                                                                │\n",
      "├────────────┼───────────┼────────────────────────────────────────────────────────────────────────────────────────────────────────────────────────────────────────────────────────┤\n",
      "│          0 │ User      │ Great, can you tell me the hhi of lithium ore inside this environment?                                                                                 │\n",
      "├────────────┼───────────┼────────────────────────────────────────────────────────────────────────────────────────────────────────────────────────────────────────────────────────┤\n",
      "│          0 │ Assistant │ yes, to calculate the herfindahl-hirschman index (hhi) of lithium ore inside this environment, we need to follow the steps you provided: 1. find the   │\n",
      "│            │           │ reserve of every country and sum all of them. this will be the total amount of lithium ore. 2. divide each country's reserve by the total amount to    │\n",
      "│            │           │ calculate the relative share of every country, called s. 3. power all s values to the power of 2. 4. sum all s^2 values to calculate the hhi, and      │\n",
      "│            │           │ check whether it lies between 0 and 1.  based on the information provided, the total amount of lithium ore is 650 metric tons (400 tons from country z │\n",
      "│            │           │ + 250 tons from country t). country z has a reserve of 400 metric tons, and country t has a reserve of 250 metric tons. using the formula for s, we    │\n",
      "│            │           │ get: s = reserve / total amount = 400 / 650 = 0.62 s = 250 / 650 = 0.38 powering s to the power of 2 gives us: s^2 = 0.62^2 = 0.3744 s^2 = 0.38^2 =    │\n",
      "│            │           │ 0.1536 summing all the s^2 values gives us: hhi = 0.3744 + 0.1536 = 0.528 the hhi value lies between 0 and 1, which means that the lithium ore market  │\n",
      "│            │           │ inside this environment is considered to be moderately concentrated. please let me know if you have any further questions!                             │\n",
      "╰────────────┴───────────┴────────────────────────────────────────────────────────────────────────────────────────────────────────────────────────────────────────────────────────╯\n"
     ]
    }
   ],
   "source": [
    "printastable( SC2_Dialogs , True )"
   ]
  },
  {
   "cell_type": "code",
   "execution_count": 21,
   "metadata": {},
   "outputs": [],
   "source": [
    "# Such a nice answer, but the definition of HHI is not defined well, as the model missed country Y\n",
    "Ask( SC2_Dialogs ,  \"Well, few mistakes you made. First, country T has 300 tons of lithium ore and not 250! Second, you missed country Y in your calculation. Please revise your answer.Notice that the main concept you pursued for HHI is right.\" )"
   ]
  },
  {
   "cell_type": "code",
   "execution_count": 22,
   "metadata": {},
   "outputs": [
    {
     "name": "stdout",
     "output_type": "stream",
     "text": [
      "╭────────────┬───────────┬────────────────────────────────────────────────────────────────────────────────────────────────────────────────────────────────────────────────────────╮\n",
      "│   Scenario │ Role      │ Content                                                                                                                                                │\n",
      "├────────────┼───────────┼────────────────────────────────────────────────────────────────────────────────────────────────────────────────────────────────────────────────────────┤\n",
      "│          0 │ User      │ Well, few mistakes you made. first, country t has 300 tons of lithium ore and not 250! second, you missed country y in your calculation. please revise │\n",
      "│            │           │ your answer.notice that the main concept you pursued for hhi is right.                                                                                 │\n",
      "├────────────┼───────────┼────────────────────────────────────────────────────────────────────────────────────────────────────────────────────────────────────────────────────────┤\n",
      "│          0 │ Assistant │ thank you for bringing those mistakes to my attention! here's the revised calculation for the herfindahl-hirschman index (hhi) based on the correct    │\n",
      "│            │           │ information: 1. find the reserve of every country and sum all of them: total amount of lithium ore = 300 tons (country t) + 200 tons (country z) + 150 │\n",
      "│            │           │ tons (country y) = 650 metric tons 2. divide each country's reserve by the total amount to calculate the relative share of every country: country t: s │\n",
      "│            │           │ = 300 / 650 = 0.46 country z: s = 200 / 650 = 0.30 country y: s = 150 / 650 = 0.23 3. power each s value to the power of 2: s^2 = 0.46^2 = 0.2032 s^2  │\n",
      "│            │           │ = 0.30^2 = 0.0909 s^2 = 0.23^2 = 0.0532 4. sum all the s^2 values to calculate the hhi: hhi = 0.2032 + 0.0909 + 0.0532 = 0.3473 the hhi value lies     │\n",
      "│            │           │ between 0 and 1, which means that the lithium ore market inside this environment is considered to be moderately concentrated. thank you again for      │\n",
      "│            │           │ pointing out the mistakes, and please let me know if you have any further questions!                                                                   │\n",
      "╰────────────┴───────────┴────────────────────────────────────────────────────────────────────────────────────────────────────────────────────────────────────────────────────────╯\n"
     ]
    }
   ],
   "source": [
    "printastable( SC2_Dialogs , True )"
   ]
  },
  {
   "cell_type": "code",
   "execution_count": 23,
   "metadata": {},
   "outputs": [],
   "source": [
    "# Seems the model mixed up numbers, we need to rephrase it more accurately\n",
    "Ask( SC2_Dialogs , \"Well, again you made a mistake, and that is country Z has 400 tons, not 200 tons! the rest of calculation is fine. Please revise your answer.\" )"
   ]
  },
  {
   "cell_type": "code",
   "execution_count": 24,
   "metadata": {},
   "outputs": [
    {
     "name": "stdout",
     "output_type": "stream",
     "text": [
      "╭────────────┬───────────┬────────────────────────────────────────────────────────────────────────────────────────────────────────────────────────────────────────────────────────╮\n",
      "│   Scenario │ Role      │ Content                                                                                                                                                │\n",
      "├────────────┼───────────┼────────────────────────────────────────────────────────────────────────────────────────────────────────────────────────────────────────────────────────┤\n",
      "│          0 │ User      │ Well, again you made a mistake, and that is country z has 400 tons, not 200 tons! the rest of calculation is fine. please revise your answer.          │\n",
      "├────────────┼───────────┼────────────────────────────────────────────────────────────────────────────────────────────────────────────────────────────────────────────────────────┤\n",
      "│          0 │ Assistant │ my apologies, you are correct. thank you for pointing out the mistake. here is the revised calculation for the herfindahl-hirschman index (hhi) based  │\n",
      "│            │           │ on the correct information: 1. find the reserve of every country and sum all of them: total amount of lithium ore = 400 tons (country z) + 300 tons    │\n",
      "│            │           │ (country t) + 150 tons (country y) = 850 metric tons 2. divide each country's reserve by the total amount to calculate the relative share of every     │\n",
      "│            │           │ country: country z: s = 400 / 850 = 0.47 country t: s = 300 / 850 = 0.35 country y: s = 150 / 850 = 0.17 3. power each s value to the power of 2: s^2  │\n",
      "│            │           │ = 0.47^2 = 0.2144 s^2 = 0.35^2 = 0.1275 s^2 = 0.17^2 = 0.0289 4. sum all the s^2 values to calculate the hhi: hhi = 0.2144 + 0.1275 + 0.0289 = 0.3618  │\n",
      "│            │           │ the hhi value lies between 0 and 1, which means that the lithium ore market inside this environment is considered to be moderately concentrated. thank │\n",
      "│            │           │ you for bringing this to my attention, and please let me know if you have any further questions.                                                       │\n",
      "╰────────────┴───────────┴────────────────────────────────────────────────────────────────────────────────────────────────────────────────────────────────────────────────────────╯\n"
     ]
    }
   ],
   "source": [
    "printastable( SC2_Dialogs , True )"
   ]
  },
  {
   "cell_type": "code",
   "execution_count": 25,
   "metadata": {},
   "outputs": [],
   "source": [
    "# This time the model calculates successfully ( After many attemps, roughly has been taken for a month or two).\n",
    "Ask( SC2_Dialogs , \"Well done, can you depict the relationships between suppliers and consumers within a graph?\" )"
   ]
  },
  {
   "cell_type": "code",
   "execution_count": 26,
   "metadata": {},
   "outputs": [
    {
     "name": "stdout",
     "output_type": "stream",
     "text": [
      "╭────────────┬───────────┬────────────────────────────────────────────────────────────────────────────────────────────────────────────────────────────────────────────────────────╮\n",
      "│   Scenario │ Role      │ Content                                                                                                                                                │\n",
      "├────────────┼───────────┼────────────────────────────────────────────────────────────────────────────────────────────────────────────────────────────────────────────────────────┤\n",
      "│          0 │ User      │ Well done, can you depict the relationships between suppliers and consumers within a graph?                                                            │\n",
      "├────────────┼───────────┼────────────────────────────────────────────────────────────────────────────────────────────────────────────────────────────────────────────────────────┤\n",
      "│          0 │ Assistant │ yes, i can definitely help you depict the relationships between suppliers and consumers within a graph! here's a simple graph that represents the      │\n",
      "│            │           │ relationships between the suppliers and consumers in the lithium ore market: in this graph, each node represents a supplier or consumer, and the edges │\n",
      "│            │           │ represent the flow of lithium ore between them. the thickness of the edges represents the volume of lithium ore flowing between each pair of nodes.    │\n",
      "│            │           │ supplier nodes are represented by circles, and consumer nodes are represented by squares. the size of each node is proportional to the amount of       │\n",
      "│            │           │ lithium ore supplied or consumed by that node. in this graph, we can see that there are three suppliers (supplier a, supplier b, and supplier c) that  │\n",
      "│            │           │ supply lithium ore to three consumers (consumer d, consumer e, and consumer f). the volume of lithium ore flowing between each pair of nodes is        │\n",
      "│            │           │ represented by the thickness of the edges. based on the information provided, we can see that supplier a is the largest supplier, accounting for 40%   │\n",
      "│            │           │ of the total lithium ore supply. consumer d is the largest consumer, accounting for 50% of the total lithium ore consumption. i hope this graphical    │\n",
      "│            │           │ representation helps you visualize the relationships between the suppliers and consumers in the lithium ore market! let me know if you have any        │\n",
      "│            │           │ further questions.                                                                                                                                     │\n",
      "╰────────────┴───────────┴────────────────────────────────────────────────────────────────────────────────────────────────────────────────────────────────────────────────────────╯\n"
     ]
    }
   ],
   "source": [
    "printastable( SC2_Dialogs , True )"
   ]
  },
  {
   "cell_type": "code",
   "execution_count": null,
   "metadata": {},
   "outputs": [],
   "source": [
    "# Mistakes again have been made, as the model is not trained well"
   ]
  }
 ],
 "metadata": {
  "kernelspec": {
   "display_name": "Python 3",
   "language": "python",
   "name": "python3"
  },
  "language_info": {
   "codemirror_mode": {
    "name": "ipython",
    "version": 3
   },
   "file_extension": ".py",
   "mimetype": "text/x-python",
   "name": "python",
   "nbconvert_exporter": "python",
   "pygments_lexer": "ipython3",
   "version": "3.11.4"
  }
 },
 "nbformat": 4,
 "nbformat_minor": 2
}
