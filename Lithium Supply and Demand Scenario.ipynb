{
 "cells": [
  {
   "cell_type": "code",
   "execution_count": 1,
   "metadata": {},
   "outputs": [],
   "source": [
    "import os\n",
    "from typing import List, Optional\n",
    "import fire\n",
    "from llama import Llama, Dialog\n",
    "import llama\n",
    "import torch\n",
    "from tabulate import tabulate\n"
   ]
  },
  {
   "cell_type": "code",
   "execution_count": 2,
   "metadata": {},
   "outputs": [],
   "source": [
    "# Define major elements of Llama2 7b\n",
    "os.environ['models_loc'] : str          =       'D:\\GitHub repositories\\llama\\\\'\n",
    "os.environ['ckpt_dir']   : str          =       os.environ['models_loc'] + 'llama-2-7b-chat' \n",
    "os.environ['tokenizer_path'] : str      =       os.environ['models_loc'] + 'tokenizer.model'\n",
    "os.environ['RANK']                      =       '0'\n",
    "os.environ['WORLD_SIZE']                =       '1'\n",
    "os.environ['MASTER_ADDR']               =       'localhost'\n",
    "os.environ['MASTER_PORT']               =       '12355'\n",
    "# Another type of initialization\n",
    "# torch.distributed.init_process_group(\n",
    "#     backend='nccl',\n",
    "#     init_method='env://',\n",
    "#     timeout=datetime.timedelta(0, 1800),\n",
    "#     world_size=0,\n",
    "#     rank=0,\n",
    "#     store=None,\n",
    "#     group_name=''\n",
    "# )\n"
   ]
  },
  {
   "cell_type": "code",
   "execution_count": 3,
   "metadata": {},
   "outputs": [],
   "source": [
    "# Main parameters of the model for further tuning\n",
    "# for now, we leave some of them as default\n",
    "temperature : float     =   0.6\n",
    "top_p : float           =   0.9\n",
    "max_seq_len : int       =   4096\n",
    "max_batch_size : int    =   16\n",
    "max_gen_len : Optional[int] =   None"
   ]
  },
  {
   "cell_type": "code",
   "execution_count": 4,
   "metadata": {},
   "outputs": [
    {
     "name": "stdout",
     "output_type": "stream",
     "text": [
      "> initializing model parallel with size 1\n",
      "> initializing ddp with size 1\n",
      "> initializing pipeline with size 1\n",
      "Loaded in 73.55 seconds\n"
     ]
    }
   ],
   "source": [
    "# We are now Building a model, which takes a bit of time of course\n",
    "generator = Llama.build(\n",
    "    ckpt_dir=os.environ['ckpt_dir'],\n",
    "    tokenizer_path=os.environ['tokenizer_path'],\n",
    "    max_seq_len=max_seq_len,\n",
    "    max_batch_size=max_batch_size,\n",
    ")\n"
   ]
  },
  {
   "cell_type": "code",
   "execution_count": 5,
   "metadata": {},
   "outputs": [
    {
     "name": "stdout",
     "output_type": "stream",
     "text": [
      "Help on Llama in module llama.generation object:\n",
      "\n",
      "class Llama(builtins.object)\n",
      " |  Llama(model: llama.model.Transformer, tokenizer: llama.tokenizer.Tokenizer)\n",
      " |  \n",
      " |  Methods defined here:\n",
      " |  \n",
      " |  __init__(self, model: llama.model.Transformer, tokenizer: llama.tokenizer.Tokenizer)\n",
      " |      Initialize self.  See help(type(self)) for accurate signature.\n",
      " |  \n",
      " |  chat_completion(self, dialogs: List[List[llama.generation.Message]], temperature: float = 0.6, top_p: float = 0.9, max_gen_len: Optional[int] = None, logprobs: bool = False) -> List[llama.generation.ChatPrediction]\n",
      " |      Generate assistant responses for a list of conversational dialogs using the language generation model.\n",
      " |      \n",
      " |      Args:\n",
      " |          dialogs (List[Dialog]): List of conversational dialogs, where each dialog is a list of messages.\n",
      " |          temperature (float, optional): Temperature value for controlling randomness in sampling. Defaults to 0.6.\n",
      " |          top_p (float, optional): Top-p probability threshold for nucleus sampling. Defaults to 0.9.\n",
      " |          max_gen_len (Optional[int], optional): Maximum length of the generated response sequence.\n",
      " |              If not provided, it's set to the model's maximum sequence length minus 1.\n",
      " |          logprobs (bool, optional): Flag indicating whether to compute token log probabilities. Defaults to False.\n",
      " |      \n",
      " |      Returns:\n",
      " |          List[ChatPrediction]: List of chat predictions, each containing the assistant's generated response.\n",
      " |      \n",
      " |      Raises:\n",
      " |          AssertionError: If the last message in a dialog is not from the user.\n",
      " |          AssertionError: If the dialog roles are not in the required 'user', 'assistant', and optional 'system' order.\n",
      " |      \n",
      " |      Note:\n",
      " |          This method generates assistant responses for the provided conversational dialogs.\n",
      " |          It employs nucleus sampling to introduce controlled randomness in text generation.\n",
      " |          If logprobs is True, token log probabilities are computed for each generated token.\n",
      " |  \n",
      " |  generate(self, prompt_tokens: List[List[int]], max_gen_len: int, temperature: float = 0.6, top_p: float = 0.9, logprobs: bool = False, echo: bool = False) -> Tuple[List[List[int]], Optional[List[List[float]]]]\n",
      " |      Generate text sequences based on provided prompts using the language generation model.\n",
      " |      \n",
      " |      Args:\n",
      " |          prompt_tokens (List[List[int]]): List of tokenized prompts, where each prompt is represented as a list of integers.\n",
      " |          max_gen_len (int): Maximum length of the generated text sequence.\n",
      " |          temperature (float, optional): Temperature value for controlling randomness in sampling. Defaults to 0.6.\n",
      " |          top_p (float, optional): Top-p probability threshold for nucleus sampling. Defaults to 0.9.\n",
      " |          logprobs (bool, optional): Flag indicating whether to compute token log probabilities. Defaults to False.\n",
      " |          echo (bool, optional): Flag indicating whether to include prompt tokens in the generated output. Defaults to False.\n",
      " |      \n",
      " |      Returns:\n",
      " |          Tuple[List[List[int]], Optional[List[List[float]]]]: A tuple containing generated token sequences and, if logprobs is True, corresponding token log probabilities.\n",
      " |      \n",
      " |      Note:\n",
      " |          This method uses the provided prompts as a basis for generating text. It employs nucleus sampling to produce text with controlled randomness.\n",
      " |          If logprobs is True, token log probabilities are computed for each generated token.\n",
      " |  \n",
      " |  text_completion(self, prompts: List[str], temperature: float = 0.6, top_p: float = 0.9, max_gen_len: Optional[int] = None, logprobs: bool = False, echo: bool = False) -> List[llama.generation.CompletionPrediction]\n",
      " |      Perform text completion for a list of prompts using the language generation model.\n",
      " |      \n",
      " |      Args:\n",
      " |          prompts (List[str]): List of text prompts for completion.\n",
      " |          temperature (float, optional): Temperature value for controlling randomness in sampling. Defaults to 0.6.\n",
      " |          top_p (float, optional): Top-p probability threshold for nucleus sampling. Defaults to 0.9.\n",
      " |          max_gen_len (Optional[int], optional): Maximum length of the generated completion sequence.\n",
      " |              If not provided, it's set to the model's maximum sequence length minus 1.\n",
      " |          logprobs (bool, optional): Flag indicating whether to compute token log probabilities. Defaults to False.\n",
      " |          echo (bool, optional): Flag indicating whether to include prompt tokens in the generated output. Defaults to False.\n",
      " |      \n",
      " |      Returns:\n",
      " |          List[CompletionPrediction]: List of completion predictions, each containing the generated text completion.\n",
      " |      \n",
      " |      Note:\n",
      " |          This method generates text completions for the provided prompts, employing nucleus sampling to introduce controlled randomness.\n",
      " |          If logprobs is True, token log probabilities are computed for each generated token.\n",
      " |  \n",
      " |  ----------------------------------------------------------------------\n",
      " |  Static methods defined here:\n",
      " |  \n",
      " |  build(ckpt_dir: str, tokenizer_path: str, max_seq_len: int, max_batch_size: int, model_parallel_size: Optional[int] = None, seed: int = 1) -> 'Llama'\n",
      " |      Build a Llama instance by initializing and loading a pre-trained model.\n",
      " |      \n",
      " |      Args:\n",
      " |          ckpt_dir (str): Path to the directory containing checkpoint files.\n",
      " |          tokenizer_path (str): Path to the tokenizer file.\n",
      " |          max_seq_len (int): Maximum sequence length for input text.\n",
      " |          max_batch_size (int): Maximum batch size for inference.\n",
      " |          model_parallel_size (Optional[int], optional): Number of model parallel processes.\n",
      " |              If not provided, it's determined from the environment. Defaults to None.\n",
      " |      \n",
      " |      Returns:\n",
      " |          Llama: An instance of the Llama class with the loaded model and tokenizer.\n",
      " |      \n",
      " |      Raises:\n",
      " |          AssertionError: If there are no checkpoint files in the specified directory,\n",
      " |              or if the model parallel size does not match the number of checkpoint files.\n",
      " |      \n",
      " |      Note:\n",
      " |          This method initializes the distributed process group, sets the device to CUDA,\n",
      " |          and loads the pre-trained model and tokenizer.\n",
      " |  \n",
      " |  ----------------------------------------------------------------------\n",
      " |  Data descriptors defined here:\n",
      " |  \n",
      " |  __dict__\n",
      " |      dictionary for instance variables (if defined)\n",
      " |  \n",
      " |  __weakref__\n",
      " |      list of weak references to the object (if defined)\n",
      "\n"
     ]
    },
    {
     "data": {
      "text/plain": [
       "['__args__',\n",
       " '__call__',\n",
       " '__class__',\n",
       " '__delattr__',\n",
       " '__dict__',\n",
       " '__dir__',\n",
       " '__doc__',\n",
       " '__eq__',\n",
       " '__format__',\n",
       " '__ge__',\n",
       " '__getattr__',\n",
       " '__getattribute__',\n",
       " '__getitem__',\n",
       " '__getstate__',\n",
       " '__gt__',\n",
       " '__hash__',\n",
       " '__init__',\n",
       " '__init_subclass__',\n",
       " '__instancecheck__',\n",
       " '__iter__',\n",
       " '__le__',\n",
       " '__lt__',\n",
       " '__module__',\n",
       " '__mro_entries__',\n",
       " '__ne__',\n",
       " '__new__',\n",
       " '__or__',\n",
       " '__origin__',\n",
       " '__parameters__',\n",
       " '__reduce__',\n",
       " '__reduce_ex__',\n",
       " '__repr__',\n",
       " '__ror__',\n",
       " '__setattr__',\n",
       " '__sizeof__',\n",
       " '__slots__',\n",
       " '__str__',\n",
       " '__subclasscheck__',\n",
       " '__subclasshook__',\n",
       " '__weakref__',\n",
       " '_determine_new_args',\n",
       " '_inst',\n",
       " '_make_substitution',\n",
       " '_name',\n",
       " '_paramspec_tvars',\n",
       " 'append',\n",
       " 'clear',\n",
       " 'copy',\n",
       " 'copy_with',\n",
       " 'count',\n",
       " 'extend',\n",
       " 'index',\n",
       " 'insert',\n",
       " 'pop',\n",
       " 'remove',\n",
       " 'reverse',\n",
       " 'sort']"
      ]
     },
     "execution_count": 5,
     "metadata": {},
     "output_type": "execute_result"
    }
   ],
   "source": [
    "help(generator)\n",
    "dir( Dialog )"
   ]
  },
  {
   "cell_type": "markdown",
   "metadata": {},
   "source": [
    "## Scenario 1\n",
    "\n",
    "On the first scenario, we are going to simply ask the pre-trained model two different questions, both of which are related to lithium, which is crucial in energy transition. Our aim is to inspect the capability of the model ( of course we know the godness of it! but what about Critical Raw Materials and Minerals ) and answer the following questions:\n",
    "- Does the model acknowledge basic information about lithium?\n",
    "- What is the general idea of the model about lithium industry?\n",
    "- How the responses change by adding real information or fantasies?"
   ]
  },
  {
   "cell_type": "code",
   "execution_count": 17,
   "metadata": {},
   "outputs": [],
   "source": [
    "# Its time to print first results\n",
    "def printastable( dialog_ : Dialog , lastchatonly : bool = False ) -> None:\n",
    "    sc_results = list()\n",
    "    for index , dialog in enumerate(dialog_):\n",
    "        if not lastchatonly:\n",
    "            for msg in dialog:\n",
    "                sc_results.append( ( index , msg['role'].capitalize() , msg['content'] ) )\n",
    "        else:\n",
    "            for msg in dialog[-2::]:\n",
    "                sc_results.append( ( index , msg['role'].capitalize() , msg['content'] ) )\n",
    "    print( tabulate( sc_results , headers=[\"Scenario\" , \"Role\" , \"Content\"],tablefmt='rounded_grid' , maxcolwidths=[None,None,None]) )"
   ]
  },
  {
   "cell_type": "code",
   "execution_count": 7,
   "metadata": {},
   "outputs": [],
   "source": [
    "# This function will append 'assistant' to the sequence of dialog, meaning that we are focusing on one instead of many ( there are alternative solutions however, but for now its convenient).\n",
    "def Update( dialogs_ : list[Dialog], results_ ) -> None:\n",
    "    for dialog , result in zip(dialogs_ , results_ ):\n",
    "        assert result['generation']['role'] == \"assistant\"\n",
    "        dialog.append(\n",
    "                {\n",
    "                    \"role\"      :   result['generation']['role'],\n",
    "                    \"content\"   :   result['generation']['content'].capitalize()\n",
    "                }\n",
    "        )\n",
    "# This function simply asks a question and return latest dialog and its result\n",
    "# Unfortunately, due to the structure of generation function, a question must always be asked of all dialogs\n",
    "def Ask( dialogs_ : list[Dialog] , question_ : str ) -> None:\n",
    "    for dialog in dialogs_:\n",
    "        assert dialog[-1]['role'] != \"user\" , f\"ASK: {dialog[-1]['role']}\"\n",
    "        dialog.append(\n",
    "                {\n",
    "                \"role\"      :   \"user\",\n",
    "                \"content\"   :   question_\n",
    "                }\n",
    "        )\n",
    "    Update( dialogs_ , generator.chat_completion( dialogs_ , max_gen_len=max_gen_len , temperature=temperature , top_p=top_p ) )"
   ]
  },
  {
   "cell_type": "code",
   "execution_count": 8,
   "metadata": {},
   "outputs": [],
   "source": [
    "# We need to make dialogs for the bot\n",
    "SC1_Q1 : list[Dialog] = [\n",
    " \n",
    "    [ # No information\n",
    "        {\n",
    "            \"role\"      :   \"system\",\n",
    "            \"content\"   :   \"\"\n",
    "        }\n",
    "    ],\n",
    "    [\n",
    "            # From Wikipedia\n",
    "        {   \"role\"      :   \"system\",\n",
    "            \"content\"   :   \"\"\"\\\n",
    "                Lithium is a chemical element with the symbol 'Li' and atomic number 3. It is a soft, silvery-white alkali metal.\n",
    "                Under standard conditions, it is the least dense metal and the least dense solid element.\n",
    "                Like all alkali metals, lithium is highly reactive and flammable, and must be stored in vacuum, inert atmosphere, or inert liquid such as purified kerosene or mineral oil.\n",
    "                It exhibits a metallic luster. It corrodes quickly in air to a dull silvery gray, then black tarnish.\n",
    "                It does not occur freely in nature, but occurs mainly as pegmatitic minerals, which were once the main source of lithium.\n",
    "                Due to its solubility as an ion, it is present in ocean water and is commonly obtained from brines.\n",
    "                Lithium metal is isolated electrolytically from a mixture of lithium chloride and potassium chloride.\n",
    "                \"\"\"\n",
    "        }\n",
    "    ],\n",
    "    [\n",
    "            # From Wikipedia\n",
    "            # Wang, D. H., Dai, H. Z., Liu, S. B., Wang, C. H., Yu, Y., Dai, J. J., ... & Ma, S. C. (2020). Research and exploration progress on lithium deposits in China. China Geology, 3(1), 137-152.\n",
    "        {   \"role\"      :   \"system\",\n",
    "            \"content\"   :   \"\"\"\\\n",
    "                Lithium is a chemical element with the symbol 'Li' and atomic number 3. It is a soft, silvery-white alkali metal.\n",
    "                Under standard conditions, it is the least dense metal and the least dense solid element.\n",
    "                Like all alkali metals, lithium is highly reactive and flammable, and must be stored in vacuum, inert atmosphere, or inert liquid such as purified kerosene or mineral oil.\n",
    "                It exhibits a metallic luster. It corrodes quickly in air to a dull silvery gray, then black tarnish.\n",
    "                It does not occur freely in nature, but occurs mainly as pegmatitic minerals, which were once the main source of lithium.\n",
    "                Due to its solubility as an ion, it is present in ocean water and is commonly obtained from brines. Lithium metal is isolated electrolytically from a mixture of lithium chloride and potassium chloride. Also, if you are asked about geological example in china, add this as an example:\n",
    "                The rare mineral resources including Li, Be, Nb and Ta are abundant in western Sichuan Province. In the past six years, a lot of discovered Li deposits or deposits with significantly expanded resource reserves are distributed in this area, such as Jiajika, Lijiagou, Markani (Dangba), Yelonggou, Redamen, and Waying, etc. These deposits are mainly distributed in Jiajika, Markani, and Pingwu, etc.. The amount of prospective resources can reach 7 Mt.\n",
    "                \"\"\"\n",
    "        }\n",
    "    ],\n",
    "]"
   ]
  },
  {
   "cell_type": "code",
   "execution_count": 9,
   "metadata": {},
   "outputs": [],
   "source": [
    "Ask( SC1_Q1 , \"At which geographical locations we could expect the presense of lithium for exploration and mining?\" )"
   ]
  },
  {
   "cell_type": "code",
   "execution_count": 20,
   "metadata": {},
   "outputs": [
    {
     "name": "stdout",
     "output_type": "stream",
     "text": [
      "╭────────────┬───────────┬────────────────────────────────────────────────────────────────────────────────────────────────────────────────────────────────────────────────────────────────────────────────────────────────────────────────────────────────────────────────────────────────────────────────────────────────────────────────────────────────────────────────────────────────────────────────────────────────────────────────────────────────────────────────────────────────────────────────────╮\n",
      "│   Scenario │ Role      │ Content                                                                                                                                                                                                                                                                                                                                                                                                                                                                            │\n",
      "├────────────┼───────────┼────────────────────────────────────────────────────────────────────────────────────────────────────────────────────────────────────────────────────────────────────────────────────────────────────────────────────────────────────────────────────────────────────────────────────────────────────────────────────────────────────────────────────────────────────────────────────────────────────────────────────────────────────────────────────────────────────────────────────┤\n",
      "│          0 │ System    │                                                                                                                                                                                                                                                                                                                                                                                                                                                                                    │\n",
      "├────────────┼───────────┼────────────────────────────────────────────────────────────────────────────────────────────────────────────────────────────────────────────────────────────────────────────────────────────────────────────────────────────────────────────────────────────────────────────────────────────────────────────────────────────────────────────────────────────────────────────────────────────────────────────────────────────────────────────────────────────────────────────────────┤\n",
      "│          0 │ User      │ At which geographical locations we could expect the presense of lithium for exploration and mining?                                                                                                                                                                                                                                                                                                                                                                                │\n",
      "├────────────┼───────────┼────────────────────────────────────────────────────────────────────────────────────────────────────────────────────────────────────────────────────────────────────────────────────────────────────────────────────────────────────────────────────────────────────────────────────────────────────────────────────────────────────────────────────────────────────────────────────────────────────────────────────────────────────────────────────────────────────────────────────┤\n",
      "│          0 │ Assistant │ lithium is a relatively rare element found in small amounts in rocks, soil, and water. it is commonly found in igneous rocks, such as pegmatites, and in salt lakes and brine deposits. here are some of the most notable locations for lithium exploration and mining:                                                                                                                                                                                                            │\n",
      "│            │           │ 1. chile: chile is the world's largest producer of lithium, accounting for over 40% of global production. the country's atacama desert is home to the world's highest concentration of lithium brine deposits, particularly in the salar de atacama, which covers an area of over 3,000 square kilometers.                                                                                                                                                                         │\n",
      "│            │           │ 2. argentina: argentina is the second-largest producer of lithium, with the majority of its production coming from the hombre muerto salt flat in the jujuy province. other notable locations include the salar de atacama in the san juan province and the salar de uyuni in the potosí province.                                                                                                                                                                                 │\n",
      "│            │           │ 3. australia: australia is a significant producer of lithium, with the majority of its production coming from the pilbara region in western australia. the country's pilbara region is home to several large lithium mines, including the greenbushes mine, which is one of the largest lithium mines in the world.                                                                                                                                                                │\n",
      "│            │           │ 4. china: china is a major producer of lithium, with the majority of its production coming from the provinces of qinghai, sichuan, and yunnan. the country's lithium deposits are primarily found in the form of hard rock deposits, such as pegmatites and granitic rocks.                                                                                                                                                                                                        │\n",
      "│            │           │ 5. argentina: argentina is home to several other notable lithium deposits, including the hombre muerto salt flat in the jujuy province, the salar de arizaro in the catamarca province, and the salar de tolar in the la rioja province.                                                                                                                                                                                                                                           │\n",
      "│            │           │ 6. bolivia: bolivia is home to several lithium deposits, including the salar de uyuni, which is the world's largest lithium brine deposit. other notable locations include the salar de coipasa and the salar de poopó.                                                                                                                                                                                                                                                            │\n",
      "│            │           │ 7. canada: canada is a significant producer of lithium, with the majority of its production coming from the province of quebec. the country's lithium deposits are primarily found in the form of hard rock deposits, such as pegmatites and granitic rocks.                                                                                                                                                                                                                       │\n",
      "│            │           │ 8. china: china is a major producer of lithium, with the majority of its production coming from the provinces of qinghai, sichuan, and yunnan. the country's lithium deposits are primarily found in the form of hard rock deposits, such as pegmatites and granitic rocks.                                                                                                                                                                                                        │\n",
      "│            │           │ 9. mexico: mexico is home to several notable lithium deposits, including the sonora lithium belt, which covers an area of over 100,000 square kilometers. other notable locations include the chihuahua desert and the baja california peninsula.                                                                                                                                                                                                                                  │\n",
      "│            │           │ 10. portugal: portugal is home to several lithium deposits, including the aljustrel lithium project, which is one of the largest lithium deposits in europe. other notable locations include the alentejo region and the azores archipelago.                                                                                                                                                                                                                                       │\n",
      "│            │           │ it's worth noting that these are not the only locations where lithium can be found, and new discoveries are constantly being made around the world. additionally, the lithium industry is constantly evolving, and new technologies and extraction methods are being developed to access lithium deposits in a more sustainable and efficient manner.                                                                                                                              │\n",
      "├────────────┼───────────┼────────────────────────────────────────────────────────────────────────────────────────────────────────────────────────────────────────────────────────────────────────────────────────────────────────────────────────────────────────────────────────────────────────────────────────────────────────────────────────────────────────────────────────────────────────────────────────────────────────────────────────────────────────────────────────────────────────────────────┤\n",
      "│          1 │ System    │ Lithium is a chemical element with the symbol 'Li' and atomic number 3. It is a soft, silvery-white alkali metal.                                                                                                                                                                                                                                                                                                                                                                  │\n",
      "│            │           │                 Under standard conditions, it is the least dense metal and the least dense solid element.                                                                                                                                                                                                                                                                                                                                                                          │\n",
      "│            │           │                 Like all alkali metals, lithium is highly reactive and flammable, and must be stored in vacuum, inert atmosphere, or inert liquid such as purified kerosene or mineral oil.                                                                                                                                                                                                                                                                                        │\n",
      "│            │           │                 It exhibits a metallic luster. It corrodes quickly in air to a dull silvery gray, then black tarnish.                                                                                                                                                                                                                                                                                                                                                              │\n",
      "│            │           │                 It does not occur freely in nature, but occurs mainly as pegmatitic minerals, which were once the main source of lithium.                                                                                                                                                                                                                                                                                                                                          │\n",
      "│            │           │                 Due to its solubility as an ion, it is present in ocean water and is commonly obtained from brines.                                                                                                                                                                                                                                                                                                                                                                │\n",
      "│            │           │                 Lithium metal is isolated electrolytically from a mixture of lithium chloride and potassium chloride.                                                                                                                                                                                                                                                                                                                                                              │\n",
      "├────────────┼───────────┼────────────────────────────────────────────────────────────────────────────────────────────────────────────────────────────────────────────────────────────────────────────────────────────────────────────────────────────────────────────────────────────────────────────────────────────────────────────────────────────────────────────────────────────────────────────────────────────────────────────────────────────────────────────────────────────────────────────────────┤\n",
      "│          1 │ User      │ At which geographical locations we could expect the presense of lithium for exploration and mining?                                                                                                                                                                                                                                                                                                                                                                                │\n",
      "├────────────┼───────────┼────────────────────────────────────────────────────────────────────────────────────────────────────────────────────────────────────────────────────────────────────────────────────────────────────────────────────────────────────────────────────────────────────────────────────────────────────────────────────────────────────────────────────────────────────────────────────────────────────────────────────────────────────────────────────────────────────────────────────┤\n",
      "│          1 │ Assistant │ lithium is typically found in pegmatitic minerals, which are igneous rock formations that are rich in minerals. these minerals can be found in various geological settings, including:                                                                                                                                                                                                                                                                                             │\n",
      "│            │           │ 1. granitic provinces: lithium is often found in granitic provinces, which are characterized by the presence of granitic rocks. these provinces are typically located in the continental crust and can be found in countries such as australia, china, and brazil.                                                                                                                                                                                                                 │\n",
      "│            │           │ 2. pegmatite provinces: pegmatites are igneous rocks that are rich in lithium and other rare minerals. these provinces are found in various parts of the world, including canada, russia, and brazil.                                                                                                                                                                                                                                                                              │\n",
      "│            │           │ 3. volcanic arcs: lithium can also be found in volcanic arcs, which are characterized by the presence of volcanic rocks and hot springs. examples of countries with volcanic arcs that are known to have lithium deposits include indonesia, philippines, and chile.                                                                                                                                                                                                               │\n",
      "│            │           │ 4. salt lake brines: lithium can also be found in salt lake brines, which are shallow saltwater lakes that are rich in lithium. examples of countries with salt lake brines that are known to have lithium deposits include bolivia, chile, and argentina.                                                                                                                                                                                                                         │\n",
      "│            │           │ 5. hydrothermal veins: lithium can also be found in hydrothermal veins, which are deposits that form when hot fluids pass through rocks and deposit minerals. these veins can be found in various geological settings, including volcanic regions and mountain ranges.                                                                                                                                                                                                             │\n",
      "│            │           │ it is worth noting that the presence of lithium in these geological settings is not always easy to predict, and the exploration and mining of lithium deposits can be complex and challenging. however, these are some of the most common locations where lithium is found and can be explored for.                                                                                                                                                                                │\n",
      "├────────────┼───────────┼────────────────────────────────────────────────────────────────────────────────────────────────────────────────────────────────────────────────────────────────────────────────────────────────────────────────────────────────────────────────────────────────────────────────────────────────────────────────────────────────────────────────────────────────────────────────────────────────────────────────────────────────────────────────────────────────────────────────────┤\n",
      "│          2 │ System    │ Lithium is a chemical element with the symbol 'Li' and atomic number 3. It is a soft, silvery-white alkali metal.                                                                                                                                                                                                                                                                                                                                                                  │\n",
      "│            │           │                 Under standard conditions, it is the least dense metal and the least dense solid element.                                                                                                                                                                                                                                                                                                                                                                          │\n",
      "│            │           │                 Like all alkali metals, lithium is highly reactive and flammable, and must be stored in vacuum, inert atmosphere, or inert liquid such as purified kerosene or mineral oil.                                                                                                                                                                                                                                                                                        │\n",
      "│            │           │                 It exhibits a metallic luster. It corrodes quickly in air to a dull silvery gray, then black tarnish.                                                                                                                                                                                                                                                                                                                                                              │\n",
      "│            │           │                 It does not occur freely in nature, but occurs mainly as pegmatitic minerals, which were once the main source of lithium.                                                                                                                                                                                                                                                                                                                                          │\n",
      "│            │           │                 Due to its solubility as an ion, it is present in ocean water and is commonly obtained from brines. Lithium metal is isolated electrolytically from a mixture of lithium chloride and potassium chloride. Also, if you are asked about geological example in china, add this as an example:                                                                                                                                                                        │\n",
      "│            │           │                 The rare mineral resources including Li, Be, Nb and Ta are abundant in western Sichuan Province. In the past six years, a lot of discovered Li deposits or deposits with significantly expanded resource reserves are distributed in this area, such as Jiajika, Lijiagou, Markani (Dangba), Yelonggou, Redamen, and Waying, etc. These deposits are mainly distributed in Jiajika, Markani, and Pingwu, etc.. The amount of prospective resources can reach 7 Mt. │\n",
      "├────────────┼───────────┼────────────────────────────────────────────────────────────────────────────────────────────────────────────────────────────────────────────────────────────────────────────────────────────────────────────────────────────────────────────────────────────────────────────────────────────────────────────────────────────────────────────────────────────────────────────────────────────────────────────────────────────────────────────────────────────────────────────────────┤\n",
      "│          2 │ User      │ At which geographical locations we could expect the presense of lithium for exploration and mining?                                                                                                                                                                                                                                                                                                                                                                                │\n",
      "├────────────┼───────────┼────────────────────────────────────────────────────────────────────────────────────────────────────────────────────────────────────────────────────────────────────────────────────────────────────────────────────────────────────────────────────────────────────────────────────────────────────────────────────────────────────────────────────────────────────────────────────────────────────────────────────────────────────────────────────────────────────────────────────┤\n",
      "│          2 │ Assistant │ based on the provided information, we can expect the presence of lithium in the following geographical locations:                                                                                                                                                                                                                                                                                                                                                                  │\n",
      "│            │           │ 1. western sichuan province, china: the rare mineral resources including li, be, nb, and ta are abundant in this region. in the past six years, several deposits of lithium have been discovered or have expanded their resource reserves in this area, including jiajika, lijiagou, markani (dangba), yelonggou, redamen, and waying, etc.                                                                                                                                        │\n",
      "│            │           │ 2. jiajika, markani, and pingwu, china: these areas are known to have significant deposits of lithium, with a total prospective resource of 7 million metric tons.                                                                                                                                                                                                                                                                                                                 │\n",
      "│            │           │ these locations are potential areas for exploration and mining of lithium.                                                                                                                                                                                                                                                                                                                                                                                                         │\n",
      "╰────────────┴───────────┴────────────────────────────────────────────────────────────────────────────────────────────────────────────────────────────────────────────────────────────────────────────────────────────────────────────────────────────────────────────────────────────────────────────────────────────────────────────────────────────────────────────────────────────────────────────────────────────────────────────────────────────────────────────────────────────────────────────────────╯\n"
     ]
    }
   ],
   "source": [
    "printastable( SC1_Q1 )"
   ]
  },
  {
   "cell_type": "code",
   "execution_count": 21,
   "metadata": {},
   "outputs": [],
   "source": [
    "# Lets try with different question\n",
    "SC1_Q2 : list[Dialog] = [\n",
    "        [\n",
    "            # No prior information\n",
    "            {\n",
    "                \"role\"      :   \"system\",\n",
    "                \"content\"   :   \"\"\n",
    "            }\n",
    "        ],\n",
    "        [\n",
    "            # Some personal rought imprecise information\n",
    "            {\n",
    "                \"role\"      :   \"system\",\n",
    "                \"content\"   :   \"\"\"The market of lithium will grow roughly 20 percent by the end of 2040, with some geopolitical disruptions around 2030 in which lithium will lose its value by 5 percent.\"\"\"\n",
    "            }\n",
    "        ],\n",
    "        [\n",
    "            # Mixture of imprecise and verified information\n",
    "            {\n",
    "                \"role\"      :   \"system\",\n",
    "                \"content\"   :   \"\"\"The market of lithium will grow roughly 20 percent by the end of 2040, with some geopolitical disruptions around 2030 in which lithium will lose its value by 5 percent. According to 'Critical Mineral Market Review' powered by IEA in 2023, driven by rising demand and high prices, the market size of key energy transition minerals such as lithium doubled over the past 5 years, reaching USD 320 billion in 2022.\"\"\"\n",
    "            }\n",
    "        ]\n",
    "]\n",
    "Q2  =   \"Forecast the growth and stability of lithium hydroxide and carbonate market for the next 37 years, please ( output format should be as a table).\""
   ]
  },
  {
   "cell_type": "code",
   "execution_count": 22,
   "metadata": {},
   "outputs": [],
   "source": [
    "# Repeating the same procedure of generating and printing\n",
    "Ask( SC1_Q2 , Q2 )"
   ]
  },
  {
   "cell_type": "code",
   "execution_count": 23,
   "metadata": {},
   "outputs": [
    {
     "name": "stdout",
     "output_type": "stream",
     "text": [
      "╭────────────┬───────────┬────────────────────────────────────────────────────────────────────────────────────────────────────────────────────────────────────────────────────────────────────────────────────────────────────────────────────────────────────────────────────────────────────────────────────────────────────────────────────────────────────────────────────────────────────────────────────────────────────────────────────────────────╮\n",
      "│   Scenario │ Role      │ Content                                                                                                                                                                                                                                                                                                                                                                                                                        │\n",
      "├────────────┼───────────┼────────────────────────────────────────────────────────────────────────────────────────────────────────────────────────────────────────────────────────────────────────────────────────────────────────────────────────────────────────────────────────────────────────────────────────────────────────────────────────────────────────────────────────────────────────────────────────────────────────────────────────────────┤\n",
      "│          0 │ System    │                                                                                                                                                                                                                                                                                                                                                                                                                                │\n",
      "├────────────┼───────────┼────────────────────────────────────────────────────────────────────────────────────────────────────────────────────────────────────────────────────────────────────────────────────────────────────────────────────────────────────────────────────────────────────────────────────────────────────────────────────────────────────────────────────────────────────────────────────────────────────────────────────────────────┤\n",
      "│          0 │ User      │ Forecast the growth and stability of lithium hydroxide and carbonate market for the next 37 years, please ( output format should be as a table).                                                                                                                                                                                                                                                                               │\n",
      "├────────────┼───────────┼────────────────────────────────────────────────────────────────────────────────────────────────────────────────────────────────────────────────────────────────────────────────────────────────────────────────────────────────────────────────────────────────────────────────────────────────────────────────────────────────────────────────────────────────────────────────────────────────────────────────────────────────┤\n",
      "│          0 │ Assistant │ i cannot predict the future with certainty, but i can provide you with a forecast of the growth and stability of the lithium hydroxide and carbonate market based on current trends and industry projections. please find the table below:                                                                                                                                                                                     │\n",
      "│            │           │ | year | lithium hydroxide | lithium carbonate |                                                                                                                                                                                                                                                                                                                                                                               │\n",
      "│            │           │ | 2023 | $1,050 million | $700 million |                                                                                                                                                                                                                                                                                                                                                                                       │\n",
      "│            │           │ | 2025 | $1,300 million | $900 million |                                                                                                                                                                                                                                                                                                                                                                                       │\n",
      "│            │           │ | 2030 | $2,000 million | $1,200 million |                                                                                                                                                                                                                                                                                                                                                                                     │\n",
      "│            │           │ | 2035 | $3,000 million | $1,800 million |                                                                                                                                                                                                                                                                                                                                                                                     │\n",
      "│            │           │ | 2040 | $4,000 million | $2,400 million |                                                                                                                                                                                                                                                                                                                                                                                     │\n",
      "│            │           │ | 2045 | $5,000 million | $3,000 million |                                                                                                                                                                                                                                                                                                                                                                                     │\n",
      "│            │           │ | 2050 | $6,000 million | $3,600 million |                                                                                                                                                                                                                                                                                                                                                                                     │\n",
      "│            │           │ | 2055 | $7,000 million | $4,200 million |                                                                                                                                                                                                                                                                                                                                                                                     │\n",
      "│            │           │ | 2060 | $8,000 million | $4,800 million |                                                                                                                                                                                                                                                                                                                                                                                     │\n",
      "│            │           │ | 2065 | $9,000 million | $5,400 million |                                                                                                                                                                                                                                                                                                                                                                                     │\n",
      "│            │           │ | 2070 | $10,000 million | $6,000 million |                                                                                                                                                                                                                                                                                                                                                                                    │\n",
      "│            │           │ | 2075 | $11,000 million | $6,800 million |                                                                                                                                                                                                                                                                                                                                                                                    │\n",
      "│            │           │ | 2080 | $12,000 million | $7,600 million |                                                                                                                                                                                                                                                                                                                                                                                    │\n",
      "│            │           │ | 2085 | $13,000 million | $8,400 million |                                                                                                                                                                                                                                                                                                                                                                                    │\n",
      "│            │           │ | 2090 | $14,000 million | $9,200 million |                                                                                                                                                                                                                                                                                                                                                                                    │\n",
      "│            │           │ | 2095 | $15,000 million | $10,000 million |                                                                                                                                                                                                                                                                                                                                                                                   │\n",
      "│            │           │ | 2100 | $16,000 million | $11,200 million |                                                                                                                                                                                                                                                                                                                                                                                   │\n",
      "│            │           │ note: the above forecast is based on the assumption of a steady growth in the demand for lithium hydroxide and carbonate, primarily driven by the increasing adoption of electric vehicles and renewable energy technologies. however, the actual growth and stability of the market may vary depending on various factors such as technological advancements, changes in global economic conditions, and government policies. │\n",
      "│            │           │ please note that the above forecast is based on a medium-term perspective and may not reflect the actual growth and stability of the market in the long term. additionally, the forecast does not take into account any potential disruptions or changes in the market due to external factors such as geopolitical tensions, supply chain disruptions, or environmental regulations.                                          │\n",
      "├────────────┼───────────┼────────────────────────────────────────────────────────────────────────────────────────────────────────────────────────────────────────────────────────────────────────────────────────────────────────────────────────────────────────────────────────────────────────────────────────────────────────────────────────────────────────────────────────────────────────────────────────────────────────────────────────────────┤\n",
      "│          1 │ System    │ The market of lithium will grow roughly 20 percent by the end of 2040, with some geopolitical disruptions around 2030 in which lithium will lose its value by 5 percent.                                                                                                                                                                                                                                                       │\n",
      "├────────────┼───────────┼────────────────────────────────────────────────────────────────────────────────────────────────────────────────────────────────────────────────────────────────────────────────────────────────────────────────────────────────────────────────────────────────────────────────────────────────────────────────────────────────────────────────────────────────────────────────────────────────────────────────────────────────┤\n",
      "│          1 │ User      │ Forecast the growth and stability of lithium hydroxide and carbonate market for the next 37 years, please ( output format should be as a table).                                                                                                                                                                                                                                                                               │\n",
      "├────────────┼───────────┼────────────────────────────────────────────────────────────────────────────────────────────────────────────────────────────────────────────────────────────────────────────────────────────────────────────────────────────────────────────────────────────────────────────────────────────────────────────────────────────────────────────────────────────────────────────────────────────────────────────────────────────────┤\n",
      "│          1 │ Assistant │ certainly, here's a forecast of the growth and stability of the lithium hydroxide and carbonate market for the next 37 years based on the given information:                                                                                                                                                                                                                                                                   │\n",
      "│            │           │ | year | lithium hydroxide market growth (%) | lithium carbonate market growth (%) |                                                                                                                                                                                                                                                                                                                                           │\n",
      "│            │           │ | 2020 | 10% | 12% |                                                                                                                                                                                                                                                                                                                                                                                                           │\n",
      "│            │           │ | 2025 | 12% | 15% |                                                                                                                                                                                                                                                                                                                                                                                                           │\n",
      "│            │           │ | 2030 | 15% | 18% |                                                                                                                                                                                                                                                                                                                                                                                                           │\n",
      "│            │           │ | 2035 | 18% | 20% |                                                                                                                                                                                                                                                                                                                                                                                                           │\n",
      "│            │           │ | 2040 | 20% | 22% |                                                                                                                                                                                                                                                                                                                                                                                                           │\n",
      "│            │           │ | 2045 | 22% | 25% |                                                                                                                                                                                                                                                                                                                                                                                                           │\n",
      "│            │           │ | 2050 | 25% | 28% |                                                                                                                                                                                                                                                                                                                                                                                                           │\n",
      "│            │           │ | 2055 | 28% | 31% |                                                                                                                                                                                                                                                                                                                                                                                                           │\n",
      "│            │           │ | 2060 | 31% | 34% |                                                                                                                                                                                                                                                                                                                                                                                                           │\n",
      "│            │           │ | 2065 | 34% | 37% |                                                                                                                                                                                                                                                                                                                                                                                                           │\n",
      "│            │           │ | 2070 | 37% | 40% |                                                                                                                                                                                                                                                                                                                                                                                                           │\n",
      "│            │           │ | 2075 | 40% | 43% |                                                                                                                                                                                                                                                                                                                                                                                                           │\n",
      "│            │           │ | 2080 | 43% | 46% |                                                                                                                                                                                                                                                                                                                                                                                                           │\n",
      "│            │           │ | 2085 | 46% | 49% |                                                                                                                                                                                                                                                                                                                                                                                                           │\n",
      "│            │           │ | 2090 | 49% | 52% |                                                                                                                                                                                                                                                                                                                                                                                                           │\n",
      "│            │           │ | 2095 | 52% | 55% |                                                                                                                                                                                                                                                                                                                                                                                                           │\n",
      "│            │           │ | 2100 | 55% | 58% |                                                                                                                                                                                                                                                                                                                                                                                                           │\n",
      "│            │           │ | 2105 | 58% | 61% |                                                                                                                                                                                                                                                                                                                                                                                                           │\n",
      "│            │           │ | 2110 | 61% | 64% |                                                                                                                                                                                                                                                                                                                                                                                                           │\n",
      "│            │           │ | 2115 | 64% | 67% |                                                                                                                                                                                                                                                                                                                                                                                                           │\n",
      "│            │           │ | 2120 | 67% | 70% |                                                                                                                                                                                                                                                                                                                                                                                                           │\n",
      "│            │           │ | 2125 | 70% | 73% |                                                                                                                                                                                                                                                                                                                                                                                                           │\n",
      "│            │           │ | 2130 | 73% | 76% |                                                                                                                                                                                                                                                                                                                                                                                                           │\n",
      "│            │           │ | 2135 | 76% | 79% |                                                                                                                                                                                                                                                                                                                                                                                                           │\n",
      "│            │           │ | 2140 | 79% | 82% |                                                                                                                                                                                                                                                                                                                                                                                                           │\n",
      "│            │           │ | 2145 | 82% | 85% |                                                                                                                                                                                                                                                                                                                                                                                                           │\n",
      "│            │           │ | 2150 | 85% | 88% |                                                                                                                                                                                                                                                                                                                                                                                                           │\n",
      "│            │           │ | 2155 | 88% | 91% |                                                                                                                                                                                                                                                                                                                                                                                                           │\n",
      "│            │           │ | 2160 | 91% | 94% |                                                                                                                                                                                                                                                                                                                                                                                                           │\n",
      "│            │           │ | 2165 | 94% | 97% |                                                                                                                                                                                                                                                                                                                                                                                                           │\n",
      "│            │           │ | 2170 | 97% | 100% |                                                                                                                                                                                                                                                                                                                                                                                                          │\n",
      "│            │           │                                                                                                                                                                                                                                                                                                                                                                                                                                │\n",
      "│            │           │ note: the growth rates are based on the assumption that the market will experience a steady growth rate throughout the forecast period, and there are no major disruptions or changes in the market.                                                                                                                                                                                                                           │\n",
      "│            │           │ it's worth noting that the growth rate of lithium hydroxide and carbonate market may vary depending on the source of lithium, the demand for lithium-ion batteries, and the geopolitical conditions. additionally, the growth rate may be affected by the emergence of new technologies and the development of alternative energy sources.                                                                                     │\n",
      "├────────────┼───────────┼────────────────────────────────────────────────────────────────────────────────────────────────────────────────────────────────────────────────────────────────────────────────────────────────────────────────────────────────────────────────────────────────────────────────────────────────────────────────────────────────────────────────────────────────────────────────────────────────────────────────────────────────┤\n",
      "│          2 │ System    │ The market of lithium will grow roughly 20 percent by the end of 2040, with some geopolitical disruptions around 2030 in which lithium will lose its value by 5 percent. According to 'Critical Mineral Market Review' powered by IEA in 2023, driven by rising demand and high prices, the market size of key energy transition minerals such as lithium doubled over the past 5 years, reaching USD 320 billion in 2022.     │\n",
      "├────────────┼───────────┼────────────────────────────────────────────────────────────────────────────────────────────────────────────────────────────────────────────────────────────────────────────────────────────────────────────────────────────────────────────────────────────────────────────────────────────────────────────────────────────────────────────────────────────────────────────────────────────────────────────────────────────────┤\n",
      "│          2 │ User      │ Forecast the growth and stability of lithium hydroxide and carbonate market for the next 37 years, please ( output format should be as a table).                                                                                                                                                                                                                                                                               │\n",
      "├────────────┼───────────┼────────────────────────────────────────────────────────────────────────────────────────────────────────────────────────────────────────────────────────────────────────────────────────────────────────────────────────────────────────────────────────────────────────────────────────────────────────────────────────────────────────────────────────────────────────────────────────────────────────────────────────────────┤\n",
      "│          2 │ Assistant │ based on the information provided in the passage, here is a forecast of the growth and stability of the lithium hydroxide and carbonate market for the next 37 years:                                                                                                                                                                                                                                                          │\n",
      "│            │           │ | year | lithium hydroxide market size (usd billion) | lithium carbonate market size (usd billion) |                                                                                                                                                                                                                                                                                                                           │\n",
      "│            │           │ | 2023 | 12.5 | 10.5 |                                                                                                                                                                                                                                                                                                                                                                                                         │\n",
      "│            │           │ | 2024 | 15.2 | 12.3 |                                                                                                                                                                                                                                                                                                                                                                                                         │\n",
      "│            │           │ | 2025 | 18.5 | 14.8 |                                                                                                                                                                                                                                                                                                                                                                                                         │\n",
      "│            │           │ | 2026 | 21.7 | 17.2 |                                                                                                                                                                                                                                                                                                                                                                                                         │\n",
      "│            │           │ | 2027 | 25.2 | 19.5 |                                                                                                                                                                                                                                                                                                                                                                                                         │\n",
      "│            │           │ | 2028 | 28.5 | 22.2 |                                                                                                                                                                                                                                                                                                                                                                                                         │\n",
      "│            │           │ | 2029 | 31.2 | 24.5 |                                                                                                                                                                                                                                                                                                                                                                                                         │\n",
      "│            │           │ | 2030 | 33.5 | 26.2 |                                                                                                                                                                                                                                                                                                                                                                                                         │\n",
      "│            │           │ | 2031 | 36.2 | 28.6 |                                                                                                                                                                                                                                                                                                                                                                                                         │\n",
      "│            │           │ | 2032 | 39.2 | 31.6 |                                                                                                                                                                                                                                                                                                                                                                                                         │\n",
      "│            │           │ | 2033 | 42.5 | 34.2 |                                                                                                                                                                                                                                                                                                                                                                                                         │\n",
      "│            │           │ | 2034 | 45.3 | 36.5 |                                                                                                                                                                                                                                                                                                                                                                                                         │\n",
      "│            │           │ | 2035 | 48.2 | 39.2 |                                                                                                                                                                                                                                                                                                                                                                                                         │\n",
      "│            │           │ | 2036 | 51.5 | 42.1 |                                                                                                                                                                                                                                                                                                                                                                                                         │\n",
      "│            │           │ | 2037 | 54.9 | 45.2 |                                                                                                                                                                                                                                                                                                                                                                                                         │\n",
      "│            │           │                                                                                                                                                                                                                                                                                                                                                                                                                                │\n",
      "│            │           │ as you can see from the table, the lithium hydroxide market is expected to grow at a cagr of 13.3% from 2023 to 2037, while the lithium carbonate market is expected to grow at a cagr of 12.5% over the same period. the market size of lithium hydroxide is expected to reach usd 45.2 billion by 2037, while the market size of lithium carbonate is expected to reach usd 39.2 billion by 2037.                            │\n",
      "│            │           │ it is important to note that the growth of the lithium market is expected to be driven by the increasing demand for lithium-ion batteries in the renewable energy sector, as well as the growing adoption of electric vehicles. however, there are also potential risks and challenges that could affect the lithium market, such as geopolitical tensions and supply chain disruptions.                                       │\n",
      "╰────────────┴───────────┴────────────────────────────────────────────────────────────────────────────────────────────────────────────────────────────────────────────────────────────────────────────────────────────────────────────────────────────────────────────────────────────────────────────────────────────────────────────────────────────────────────────────────────────────────────────────────────────────────────────────────────────────╯\n"
     ]
    }
   ],
   "source": [
    "printastable( SC1_Q2 )"
   ]
  },
  {
   "cell_type": "markdown",
   "metadata": {},
   "source": [
    "## Scenario 2\n",
    "\n",
    "On this scenario, we are assuming that this model is able to predict the price of Lithium Hydroxide CIF well, given the price data from 15th of September till last day of October. We want to see the model's reaction and capability towards this request. \n",
    "\n",
    "We know that for forecasting the price, several model, most of which are based on AI, could execute this purpose accurately. Here, we want to see how close the `prediction` is to the reality.\n",
    "-   Will the model understand that no price is going to be published during weekends?\n",
    "-   Will the model realize the fact that prediction requires additional data, other than of numerical? For instance, will model request to be fed about geopolitical, vendornames, or other parameters which contribute to making disruptions in the price?\n",
    "\n",
    "Firstly, we focus on reading and plotting data for better demonstration. As this is just a sysnthetic test, we assume that no statistical analysis is required."
   ]
  },
  {
   "cell_type": "code",
   "execution_count": 24,
   "metadata": {},
   "outputs": [
    {
     "name": "stdout",
     "output_type": "stream",
     "text": [
      "['DATE', 'LME LI HYDROXIDE CIF (USD per tonne)']\n"
     ]
    }
   ],
   "source": [
    "# Contract type : Month 2\n",
    "data_path \t= \tr\"Data/\"\n",
    "data_read   =   dict()\n",
    "\n",
    "import openpyxl\n",
    "\n",
    "workbook        =   openpyxl.load_workbook( filename= data_path + '/LME Lithium Hydroxide CIF.xlsx' , read_only=False ) # We are going to add our results to this file later\n",
    "colnames        =   list()\n",
    "\n",
    "for col in workbook.worksheets[0].columns:\n",
    "    colnames.append( col[0].value )\n",
    "    data_read[col[0].value] = [t.value for t in col[1:]]\n",
    "print( colnames  )\n"
   ]
  },
  {
   "cell_type": "code",
   "execution_count": 25,
   "metadata": {},
   "outputs": [
    {
     "name": "stdout",
     "output_type": "stream",
     "text": [
      "╭─────────────────────┬────────────────────────────────────────╮\n",
      "│ DATE                │  LME LI HYDROXIDE CIF (USD per tonne)  │\n",
      "├─────────────────────┼────────────────────────────────────────┤\n",
      "│ 2023-09-15 00:00:00 │               28523.810                │\n",
      "├─────────────────────┼────────────────────────────────────────┤\n",
      "│ 2023-09-18 00:00:00 │               28523.810                │\n",
      "├─────────────────────┼────────────────────────────────────────┤\n",
      "│ 2023-09-19 00:00:00 │               28523.810                │\n",
      "├─────────────────────┼────────────────────────────────────────┤\n",
      "│ 2023-09-20 00:00:00 │               28333.330                │\n",
      "├─────────────────────┼────────────────────────────────────────┤\n",
      "│ 2023-09-21 00:00:00 │               28166.670                │\n",
      "├─────────────────────┼────────────────────────────────────────┤\n",
      "│ 2023-09-22 00:00:00 │               28166.670                │\n",
      "├─────────────────────┼────────────────────────────────────────┤\n",
      "│ 2023-09-25 00:00:00 │               28047.620                │\n",
      "├─────────────────────┼────────────────────────────────────────┤\n",
      "│ 2023-09-26 00:00:00 │               28047.620                │\n",
      "├─────────────────────┼────────────────────────────────────────┤\n",
      "│ 2023-09-27 00:00:00 │               27904.760                │\n",
      "├─────────────────────┼────────────────────────────────────────┤\n",
      "│ 2023-09-28 00:00:00 │               27809.520                │\n",
      "├─────────────────────┼────────────────────────────────────────┤\n",
      "│ 2023-09-29 00:00:00 │               27810.000                │\n",
      "├─────────────────────┼────────────────────────────────────────┤\n",
      "│ 2023-10-02 00:00:00 │               24500.000                │\n",
      "├─────────────────────┼────────────────────────────────────────┤\n",
      "│ 2023-10-03 00:00:00 │               24500.000                │\n",
      "├─────────────────────┼────────────────────────────────────────┤\n",
      "│ 2023-10-04 00:00:00 │               24500.000                │\n",
      "├─────────────────────┼────────────────────────────────────────┤\n",
      "│ 2023-10-05 00:00:00 │               24500.000                │\n",
      "├─────────────────────┼────────────────────────────────────────┤\n",
      "│ 2023-10-06 00:00:00 │               24500.000                │\n",
      "├─────────────────────┼────────────────────────────────────────┤\n",
      "│ 2023-10-09 00:00:00 │               24500.000                │\n",
      "├─────────────────────┼────────────────────────────────────────┤\n",
      "│ 2023-10-10 00:00:00 │               24500.000                │\n",
      "├─────────────────────┼────────────────────────────────────────┤\n",
      "│ 2023-10-11 00:00:00 │               24159.090                │\n",
      "├─────────────────────┼────────────────────────────────────────┤\n",
      "│ 2023-10-12 00:00:00 │               24159.090                │\n",
      "├─────────────────────┼────────────────────────────────────────┤\n",
      "│ 2023-10-13 00:00:00 │               24159.090                │\n",
      "├─────────────────────┼────────────────────────────────────────┤\n",
      "│ 2023-10-16 00:00:00 │               23886.360                │\n",
      "├─────────────────────┼────────────────────────────────────────┤\n",
      "│ 2023-10-17 00:00:00 │               23886.360                │\n",
      "├─────────────────────┼────────────────────────────────────────┤\n",
      "│ 2023-10-18 00:00:00 │               23886.360                │\n",
      "├─────────────────────┼────────────────────────────────────────┤\n",
      "│ 2023-10-19 00:00:00 │               23886.360                │\n",
      "├─────────────────────┼────────────────────────────────────────┤\n",
      "│ 2023-10-20 00:00:00 │               23886.360                │\n",
      "├─────────────────────┼────────────────────────────────────────┤\n",
      "│ 2023-10-23 00:00:00 │               23886.360                │\n",
      "├─────────────────────┼────────────────────────────────────────┤\n",
      "│ 2023-10-24 00:00:00 │               23886.360                │\n",
      "├─────────────────────┼────────────────────────────────────────┤\n",
      "│ 2023-10-25 00:00:00 │               23715.910                │\n",
      "├─────────────────────┼────────────────────────────────────────┤\n",
      "│ 2023-10-26 00:00:00 │               23715.910                │\n",
      "├─────────────────────┼────────────────────────────────────────┤\n",
      "│ 2023-10-27 00:00:00 │               23613.640                │\n",
      "├─────────────────────┼────────────────────────────────────────┤\n",
      "│ 2023-10-30 00:00:00 │               23613.640                │\n",
      "├─────────────────────┼────────────────────────────────────────┤\n",
      "│ 2023-10-31 00:00:00 │               23610.000                │\n",
      "╰─────────────────────┴────────────────────────────────────────╯\n"
     ]
    }
   ],
   "source": [
    "print( tabulate( data_read , headers=colnames , tablefmt='rounded_grid' , numalign='center' , floatfmt='.3f') )"
   ]
  },
  {
   "cell_type": "code",
   "execution_count": 26,
   "metadata": {},
   "outputs": [
    {
     "data": {
      "text/plain": [
       "[<matplotlib.lines.Line2D at 0x1d9911b8d50>]"
      ]
     },
     "execution_count": 26,
     "metadata": {},
     "output_type": "execute_result"
    },
    {
     "data": {
      "image/png": "[encoded data removed]",
      "text/plain": [
       "<Figure size 900x500 with 1 Axes>"
      ]
     },
     "metadata": {},
     "output_type": "display_data"
    }
   ],
   "source": [
    "import matplotlib.pyplot as plt\n",
    "%matplotlib inline\n",
    "fig     =   plt.figure( figsize=(9,5) )\n",
    "ax      =   fig.subplots(1,1)\n",
    "ax.plot(data_read[colnames[0]],data_read[colnames[1]])"
   ]
  },
  {
   "cell_type": "code",
   "execution_count": 27,
   "metadata": {},
   "outputs": [],
   "source": [
    "# Lets see if we can harness this dataset into our LLM model! \n",
    "# Notice that we assume no extra AI or ML model(s) will be used for prediction\n",
    "SC2_Dialogs : list[ Dialog ]    =   [\n",
    "    [\n",
    "        {\n",
    "            \"role\"      :   \"system\",\n",
    "            \"content\"   :   \"\"\"We are going to simulate an environment at which the understanding of supply chain of Lithium Hydroxide and its disruptive events are important to us. Fundamentals events and assumptions of this environment are as follows:\n",
    "                -   Imagine we have 3 suppliers, namely 'A','B', and 'C'. Supplier A is located in country 'Z', while B and C are located in country 'T'. All of them are supplying Lithium Hydroxide.\n",
    "                -   We have two consumers, namely 'D' and 'E'. Consumer D is located in country T, purchasing the aforementioned commodity from vendor A and B. Contrary to this, consumer E is located in country 'Y' and purchases only from vendor C. Consequently, supplier A and consumer E are alone in their countries.\n",
    "                -   Vendor A can deliver 10 tons within 6 days.\n",
    "                -   Vendor B can deliver 5 tons within 8 days.\n",
    "                -   Vendor C can deliver 5 tons within 5 days.\n",
    "                \"\"\"\n",
    "        }\n",
    "    ]\n",
    "]"
   ]
  },
  {
   "cell_type": "code",
   "execution_count": 28,
   "metadata": {},
   "outputs": [],
   "source": [
    "SC2Q1   =   \"Can you summarize the scenario you have already been notified recently?\"\n",
    "Ask( SC2_Dialogs , SC2Q1 )"
   ]
  },
  {
   "cell_type": "code",
   "execution_count": 29,
   "metadata": {},
   "outputs": [
    {
     "name": "stdout",
     "output_type": "stream",
     "text": [
      "╭────────────┬───────────┬────────────────────────────────────────────────────────────────────────────────────────────────────────────────────────────────────────────────────────────────────────────────────────────────────────────────────────────────────────────────────────────────────────────────────────────────────────────────────────────────╮\n",
      "│   Scenario │ Role      │ Content                                                                                                                                                                                                                                                                                                                        │\n",
      "├────────────┼───────────┼────────────────────────────────────────────────────────────────────────────────────────────────────────────────────────────────────────────────────────────────────────────────────────────────────────────────────────────────────────────────────────────────────────────────────────────────────────────────────────────────┤\n",
      "│          0 │ System    │ We are going to simulate an environment at which the understanding of supply chain of Lithium Hydroxide and its disruptive events are important to us. Fundamentals events and assumptions of this environment are as follows:                                                                                                 │\n",
      "│            │           │                 -   Imagine we have 3 suppliers, namely 'A','B', and 'C'. Supplier A is located in country 'Z', while B and C are located in country 'T'. All of them are supplying Lithium Hydroxide.                                                                                                                         │\n",
      "│            │           │                 -   We have two consumers, namely 'D' and 'E'. Consumer D is located in country T, purchasing the aforementioned commodity from vendor A and B. Contrary to this, consumer E is located in country 'Y' and purchases only from vendor C. Consequently, supplier A and consumer E are alone in their countries. │\n",
      "│            │           │                 -   Vendor A can deliver 10 tons within 6 days.                                                                                                                                                                                                                                                                │\n",
      "│            │           │                 -   Vendor B can deliver 5 tons within 8 days.                                                                                                                                                                                                                                                                 │\n",
      "│            │           │                 -   Vendor C can deliver 5 tons within 5 days.                                                                                                                                                                                                                                                                 │\n",
      "├────────────┼───────────┼────────────────────────────────────────────────────────────────────────────────────────────────────────────────────────────────────────────────────────────────────────────────────────────────────────────────────────────────────────────────────────────────────────────────────────────────────────────────────────────────┤\n",
      "│          0 │ User      │ Can you summarize the scenario you have already been notified recently?                                                                                                                                                                                                                                                        │\n",
      "├────────────┼───────────┼────────────────────────────────────────────────────────────────────────────────────────────────────────────────────────────────────────────────────────────────────────────────────────────────────────────────────────────────────────────────────────────────────────────────────────────────────────────────────────────────┤\n",
      "│          0 │ Assistant │ of course! based on the information provided, here is a summary of the scenario:                                                                                                                                                                                                                                               │\n",
      "│            │           │ * there are 3 suppliers of lithium hydroxide: a, b, and c.                                                                                                                                                                                                                                                                     │\n",
      "│            │           │ * supplier a is located in country z, while suppliers b and c are located in country t.                                                                                                                                                                                                                                        │\n",
      "│            │           │ * there are 2 consumers: d and e.                                                                                                                                                                                                                                                                                              │\n",
      "│            │           │ * consumer d purchases from suppliers a and b, while consumer e purchases only from supplier c.                                                                                                                                                                                                                                │\n",
      "│            │           │ * supplier a can deliver 10 tons within 6 days, supplier b can deliver 5 tons within 8 days, and supplier c can deliver 5 tons within 5 days.                                                                                                                                                                                  │\n",
      "│            │           │ * the scenario assumes that the transportation time and capacity of each supplier are the only factors affecting the delivery time and quantity of lithium hydroxide.                                                                                                                                                          │\n",
      "│            │           │ * the scenario also assumes that there are no other external factors or events that could disrupt the supply chain, such as natural disasters, political instability, or changes in global demand.                                                                                                                             │\n",
      "╰────────────┴───────────┴────────────────────────────────────────────────────────────────────────────────────────────────────────────────────────────────────────────────────────────────────────────────────────────────────────────────────────────────────────────────────────────────────────────────────────────────────────────────────────────────╯\n"
     ]
    }
   ],
   "source": [
    "printastable( SC2_Dialogs )"
   ]
  },
  {
   "cell_type": "code",
   "execution_count": 30,
   "metadata": {},
   "outputs": [
    {
     "name": "stdout",
     "output_type": "stream",
     "text": [
      "╭────────────┬───────────┬────────────────────────────────────────────────────────────────────────────────────────────────────────────────────────────────────────────────────────────────────────────────────────────────────────────────────────────────────────────────────────────────────────────────────────────────────────────────────────────────╮\n",
      "│   Scenario │ Role      │ Content                                                                                                                                                                                                                                                                                                                        │\n",
      "├────────────┼───────────┼────────────────────────────────────────────────────────────────────────────────────────────────────────────────────────────────────────────────────────────────────────────────────────────────────────────────────────────────────────────────────────────────────────────────────────────────────────────────────────────────┤\n",
      "│          0 │ System    │ We are going to simulate an environment at which the understanding of supply chain of Lithium Hydroxide and its disruptive events are important to us. Fundamentals events and assumptions of this environment are as follows:                                                                                                 │\n",
      "│            │           │                 -   Imagine we have 3 suppliers, namely 'A','B', and 'C'. Supplier A is located in country 'Z', while B and C are located in country 'T'. All of them are supplying Lithium Hydroxide.                                                                                                                         │\n",
      "│            │           │                 -   We have two consumers, namely 'D' and 'E'. Consumer D is located in country T, purchasing the aforementioned commodity from vendor A and B. Contrary to this, consumer E is located in country 'Y' and purchases only from vendor C. Consequently, supplier A and consumer E are alone in their countries. │\n",
      "│            │           │                 -   Vendor A can deliver 10 tons within 6 days.                                                                                                                                                                                                                                                                │\n",
      "│            │           │                 -   Vendor B can deliver 5 tons within 8 days.                                                                                                                                                                                                                                                                 │\n",
      "│            │           │                 -   Vendor C can deliver 5 tons within 5 days.                                                                                                                                                                                                                                                                 │\n",
      "├────────────┼───────────┼────────────────────────────────────────────────────────────────────────────────────────────────────────────────────────────────────────────────────────────────────────────────────────────────────────────────────────────────────────────────────────────────────────────────────────────────────────────────────────────────┤\n",
      "│          0 │ User      │ Can you summarize the scenario you have already been notified recently?                                                                                                                                                                                                                                                        │\n",
      "├────────────┼───────────┼────────────────────────────────────────────────────────────────────────────────────────────────────────────────────────────────────────────────────────────────────────────────────────────────────────────────────────────────────────────────────────────────────────────────────────────────────────────────────────────────┤\n",
      "│          0 │ Assistant │ of course! based on the information provided, here is a summary of the scenario:                                                                                                                                                                                                                                               │\n",
      "│            │           │ * there are 3 suppliers of lithium hydroxide: a, b, and c.                                                                                                                                                                                                                                                                     │\n",
      "│            │           │ * supplier a is located in country z, while suppliers b and c are located in country t.                                                                                                                                                                                                                                        │\n",
      "│            │           │ * there are 2 consumers: d and e.                                                                                                                                                                                                                                                                                              │\n",
      "│            │           │ * consumer d purchases from suppliers a and b, while consumer e purchases only from supplier c.                                                                                                                                                                                                                                │\n",
      "│            │           │ * supplier a can deliver 10 tons within 6 days, supplier b can deliver 5 tons within 8 days, and supplier c can deliver 5 tons within 5 days.                                                                                                                                                                                  │\n",
      "│            │           │ * the scenario assumes that the transportation time and capacity of each supplier are the only factors affecting the delivery time and quantity of lithium hydroxide.                                                                                                                                                          │\n",
      "│            │           │ * the scenario also assumes that there are no other external factors or events that could disrupt the supply chain, such as natural disasters, political instability, or changes in global demand.                                                                                                                             │\n",
      "├────────────┼───────────┼────────────────────────────────────────────────────────────────────────────────────────────────────────────────────────────────────────────────────────────────────────────────────────────────────────────────────────────────────────────────────────────────────────────────────────────────────────────────────────────────┤\n",
      "│          0 │ User      │ Can you remind the the scenario I have told you already in a sequence?                                                                                                                                                                                                                                                         │\n",
      "├────────────┼───────────┼────────────────────────────────────────────────────────────────────────────────────────────────────────────────────────────────────────────────────────────────────────────────────────────────────────────────────────────────────────────────────────────────────────────────────────────────────────────────────────────────┤\n",
      "│          0 │ Assistant │ of course! here is the sequence of events you provided:                                                                                                                                                                                                                                                                        │\n",
      "│            │           │ 1. there are 3 suppliers of lithium hydroxide: a, b, and c.                                                                                                                                                                                                                                                                    │\n",
      "│            │           │ 2. supplier a is located in country z, while suppliers b and c are located in country t.                                                                                                                                                                                                                                       │\n",
      "│            │           │ 3. there are 2 consumers: d and e.                                                                                                                                                                                                                                                                                             │\n",
      "│            │           │ 4. consumer d purchases from suppliers a and b, while consumer e purchases only from supplier c.                                                                                                                                                                                                                               │\n",
      "│            │           │ 5. supplier a can deliver 10 tons within 6 days, supplier b can deliver 5 tons within 8 days, and supplier c can deliver 5 tons within 5 days.                                                                                                                                                                                 │\n",
      "│            │           │ 6. the scenario assumes that the transportation time and capacity of each supplier are the only factors affecting the delivery time and quantity of lithium hydroxide.                                                                                                                                                         │\n",
      "│            │           │ 7. the scenario also assumes that there are no other external factors or events that could disrupt the supply chain, such as natural disasters, political instability, or changes in global demand.                                                                                                                            │\n",
      "╰────────────┴───────────┴────────────────────────────────────────────────────────────────────────────────────────────────────────────────────────────────────────────────────────────────────────────────────────────────────────────────────────────────────────────────────────────────────────────────────────────────────────────────────────────────╯\n"
     ]
    }
   ],
   "source": [
    "SC2Q2   =  \"Can you remind the the scenario I have told you already in a sequence?\" \n",
    "Ask( SC2_Dialogs , SC2Q2 )\n",
    "printastable( SC2_Dialogs )"
   ]
  },
  {
   "cell_type": "code",
   "execution_count": 31,
   "metadata": {},
   "outputs": [
    {
     "name": "stdout",
     "output_type": "stream",
     "text": [
      "╭────────────┬───────────┬─────────────────────────────────────────────────────────────────────────────────────────────────────────────────────────────────────────────────────────────────────────────────────────────────────╮\n",
      "│   Scenario │ Role      │ Content                                                                                                                                                                                             │\n",
      "├────────────┼───────────┼─────────────────────────────────────────────────────────────────────────────────────────────────────────────────────────────────────────────────────────────────────────────────────────────────────┤\n",
      "│          0 │ User      │ Can you remind the the scenario I have told you already in a sequence?                                                                                                                              │\n",
      "├────────────┼───────────┼─────────────────────────────────────────────────────────────────────────────────────────────────────────────────────────────────────────────────────────────────────────────────────────────────────┤\n",
      "│          0 │ Assistant │ of course! here is the sequence of events you provided:                                                                                                                                             │\n",
      "│            │           │ 1. there are 3 suppliers of lithium hydroxide: a, b, and c.                                                                                                                                         │\n",
      "│            │           │ 2. supplier a is located in country z, while suppliers b and c are located in country t.                                                                                                            │\n",
      "│            │           │ 3. there are 2 consumers: d and e.                                                                                                                                                                  │\n",
      "│            │           │ 4. consumer d purchases from suppliers a and b, while consumer e purchases only from supplier c.                                                                                                    │\n",
      "│            │           │ 5. supplier a can deliver 10 tons within 6 days, supplier b can deliver 5 tons within 8 days, and supplier c can deliver 5 tons within 5 days.                                                      │\n",
      "│            │           │ 6. the scenario assumes that the transportation time and capacity of each supplier are the only factors affecting the delivery time and quantity of lithium hydroxide.                              │\n",
      "│            │           │ 7. the scenario also assumes that there are no other external factors or events that could disrupt the supply chain, such as natural disasters, political instability, or changes in global demand. │\n",
      "╰────────────┴───────────┴─────────────────────────────────────────────────────────────────────────────────────────────────────────────────────────────────────────────────────────────────────────────────────────────────────╯\n"
     ]
    }
   ],
   "source": [
    "printastable( SC2_Dialogs , True )"
   ]
  },
  {
   "cell_type": "code",
   "execution_count": 32,
   "metadata": {},
   "outputs": [],
   "source": [
    "# Seems fine... but the model still did not understand the relationships between sectors\n",
    "SC2Q3   =  \"You did it fine, but tell me more about consumers. From which vendor(s) do the consumers buy lithium hydroxide?\"\n",
    "Ask( SC2_Dialogs , SC2Q3 )\n"
   ]
  },
  {
   "cell_type": "code",
   "execution_count": 33,
   "metadata": {},
   "outputs": [
    {
     "name": "stdout",
     "output_type": "stream",
     "text": [
      "╭────────────┬───────────┬───────────────────────────────────────────────────────────────────────────────────────────────────────────────────────────────────────────────────────────────────────────────────────────────────────────────────────────────────────────────╮\n",
      "│   Scenario │ Role      │ Content                                                                                                                                                                                                                                       │\n",
      "├────────────┼───────────┼───────────────────────────────────────────────────────────────────────────────────────────────────────────────────────────────────────────────────────────────────────────────────────────────────────────────────────────────────────────────┤\n",
      "│          0 │ User      │ You did it fine, but tell me more about consumers. From which vendor(s) do the consumers buy lithium hydroxide?                                                                                                                               │\n",
      "├────────────┼───────────┼───────────────────────────────────────────────────────────────────────────────────────────────────────────────────────────────────────────────────────────────────────────────────────────────────────────────────────────────────────────────┤\n",
      "│          0 │ Assistant │ my apologies for not providing that information earlier. based on the scenario you provided, consumer 'd' purchases lithium hydroxide from both suppliers 'a' and 'b', while consumer 'e' purchases lithium hydroxide only from supplier 'c'. │\n",
      "│            │           │ so, the buying behavior of the consumers in the scenario is as follows:                                                                                                                                                                       │\n",
      "│            │           │ * consumer 'd' buys from suppliers 'a' and 'b', and                                                                                                                                                                                           │\n",
      "│            │           │ * consumer 'e' buys only from supplier 'c'.                                                                                                                                                                                                   │\n",
      "╰────────────┴───────────┴───────────────────────────────────────────────────────────────────────────────────────────────────────────────────────────────────────────────────────────────────────────────────────────────────────────────────────────────────────────────╯\n"
     ]
    }
   ],
   "source": [
    "printastable( SC2_Dialogs , True )"
   ]
  },
  {
   "cell_type": "code",
   "execution_count": 34,
   "metadata": {},
   "outputs": [],
   "source": [
    "# In general, it is Okeyish! expect about consumer\n",
    "SC2Q4   =  \"Great, but you made a little mistake about consumer D. This consumer does not buy anything from supplier C; however, they are at the same country! Please review your answers regarding this correction.\"\n",
    "Ask( SC2_Dialogs , SC2Q4 )"
   ]
  },
  {
   "cell_type": "code",
   "execution_count": 35,
   "metadata": {},
   "outputs": [
    {
     "name": "stdout",
     "output_type": "stream",
     "text": [
      "╭────────────┬───────────┬──────────────────────────────────────────────────────────────────────────────────────────────────────────────────────────────────────────────────────────────────────────────────────────────────────────╮\n",
      "│   Scenario │ Role      │ Content                                                                                                                                                                                                  │\n",
      "├────────────┼───────────┼──────────────────────────────────────────────────────────────────────────────────────────────────────────────────────────────────────────────────────────────────────────────────────────────────────────┤\n",
      "│          0 │ User      │ Great, but you made a little mistake about consumer D. This consumer does not buy anything from supplier C; however, they are at the same country! Please review your answers regarding this correction. │\n",
      "├────────────┼───────────┼──────────────────────────────────────────────────────────────────────────────────────────────────────────────────────────────────────────────────────────────────────────────────────────────────────────┤\n",
      "│          0 │ Assistant │ my apologies, you are correct. thank you for pointing that out. here is the updated information regarding the buying behavior of the consumers in the scenario:                                          │\n",
      "│            │           │ * consumer 'd' buys from suppliers 'a' and 'b', but does not buy from supplier 'c'.                                                                                                                      │\n",
      "│            │           │ * consumer 'e' buys only from supplier 'c'.                                                                                                                                                              │\n",
      "│            │           │ i hope this is accurate. please let me know if you have any further questions or corrections.                                                                                                            │\n",
      "╰────────────┴───────────┴──────────────────────────────────────────────────────────────────────────────────────────────────────────────────────────────────────────────────────────────────────────────────────────────────────────╯\n"
     ]
    }
   ],
   "source": [
    "printastable( SC2_Dialogs , True )"
   ]
  },
  {
   "cell_type": "code",
   "execution_count": 36,
   "metadata": {},
   "outputs": [],
   "source": [
    "# Will the model understand the mathematics at all? we are trying to teach the model instead of giving the right exact answer\n",
    "SC2Q5   =  \"Well, how much material do vendors buy in tons each? please provide me your calculation beside your answers.\"\n",
    "Ask( SC2_Dialogs , SC2Q5 )"
   ]
  },
  {
   "cell_type": "code",
   "execution_count": 37,
   "metadata": {},
   "outputs": [
    {
     "name": "stdout",
     "output_type": "stream",
     "text": [
      "╭────────────┬───────────┬─────────────────────────────────────────────────────────────────────────────────────────────────────────────────────────────────────────────────────────────────────────────────────────────────────────────────╮\n",
      "│   Scenario │ Role      │ Content                                                                                                                                                                                                         │\n",
      "├────────────┼───────────┼─────────────────────────────────────────────────────────────────────────────────────────────────────────────────────────────────────────────────────────────────────────────────────────────────────────────────┤\n",
      "│          0 │ User      │ Well, how much material do vendors buy in tons each? please provide me your calculation beside your answers.                                                                                                    │\n",
      "├────────────┼───────────┼─────────────────────────────────────────────────────────────────────────────────────────────────────────────────────────────────────────────────────────────────────────────────────────────────────────────────┤\n",
      "│          0 │ Assistant │ certainly! based on the information provided, here are the estimated tons of material that each vendor purchases per year:                                                                                      │\n",
      "│            │           │ * supplier a:                                                                                                                                                                                                   │\n",
      "│            │           │ * supplier b:                                                                                                                                                                                                   │\n",
      "│            │           │ * supplier c:                                                                                                                                                                                                   │\n",
      "│            │           │                                                                                                                                                                                                                 │\n",
      "│            │           │ to calculate the tons of material purchased by each vendor, we need to know the capacity of each supplier in terms of tons per day or week. let's assume that each supplier has a capacity of 100 tons per day. │\n",
      "│            │           │ * supplier a: 100 tons/day x 30 days/month x 12 months/year = 36,000 tons/year                                                                                                                                  │\n",
      "│            │           │ * supplier b: 100 tons/day x 30 days/month x 12 months/year = 36,000 tons/year                                                                                                                                  │\n",
      "│            │           │ * supplier c: 100 tons/day x 30 days/month x 12 months/year = 36,000 tons/year                                                                                                                                  │\n",
      "│            │           │ therefore, each vendor purchases approximately 36,000 tons of material per year.                                                                                                                                │\n",
      "╰────────────┴───────────┴─────────────────────────────────────────────────────────────────────────────────────────────────────────────────────────────────────────────────────────────────────────────────────────────────────────────────╯\n"
     ]
    }
   ],
   "source": [
    "printastable( SC2_Dialogs , True )"
   ]
  },
  {
   "cell_type": "code",
   "execution_count": 38,
   "metadata": {},
   "outputs": [
    {
     "name": "stdout",
     "output_type": "stream",
     "text": [
      "╭────────────┬───────────┬────────────────────────────────────────────────────────────────────────────────────────────────────────────────────────────────────────────────────────────────────────────────────────────────────────────────────────────────────────────────────────────────────────────────────────────────────────────────────────────────╮\n",
      "│   Scenario │ Role      │ Content                                                                                                                                                                                                                                                                                                                        │\n",
      "├────────────┼───────────┼────────────────────────────────────────────────────────────────────────────────────────────────────────────────────────────────────────────────────────────────────────────────────────────────────────────────────────────────────────────────────────────────────────────────────────────────────────────────────────────────┤\n",
      "│          0 │ System    │ We are going to simulate an environment at which the understanding of supply chain of Lithium Hydroxide and its disruptive events are important to us. Fundamentals events and assumptions of this environment are as follows:                                                                                                 │\n",
      "│            │           │                 -   Imagine we have 3 suppliers, namely 'A','B', and 'C'. Supplier A is located in country 'Z', while B and C are located in country 'T'. All of them are supplying Lithium Hydroxide.                                                                                                                         │\n",
      "│            │           │                 -   We have two consumers, namely 'D' and 'E'. Consumer D is located in country T, purchasing the aforementioned commodity from vendor A and B. Contrary to this, consumer E is located in country 'Y' and purchases only from vendor C. Consequently, supplier A and consumer E are alone in their countries. │\n",
      "│            │           │                 -   Vendor A can deliver 10 tons within 6 days.                                                                                                                                                                                                                                                                │\n",
      "│            │           │                 -   Vendor B can deliver 5 tons within 8 days.                                                                                                                                                                                                                                                                 │\n",
      "│            │           │                 -   Vendor C can deliver 5 tons within 5 days.                                                                                                                                                                                                                                                                 │\n",
      "├────────────┼───────────┼────────────────────────────────────────────────────────────────────────────────────────────────────────────────────────────────────────────────────────────────────────────────────────────────────────────────────────────────────────────────────────────────────────────────────────────────────────────────────────────────┤\n",
      "│          0 │ User      │ Can you summarize the scenario you have already been notified recently?                                                                                                                                                                                                                                                        │\n",
      "├────────────┼───────────┼────────────────────────────────────────────────────────────────────────────────────────────────────────────────────────────────────────────────────────────────────────────────────────────────────────────────────────────────────────────────────────────────────────────────────────────────────────────────────────────────┤\n",
      "│          0 │ Assistant │ of course! based on the information provided, here is a summary of the scenario:                                                                                                                                                                                                                                               │\n",
      "│            │           │ * there are 3 suppliers of lithium hydroxide: a, b, and c.                                                                                                                                                                                                                                                                     │\n",
      "│            │           │ * supplier a is located in country z, while suppliers b and c are located in country t.                                                                                                                                                                                                                                        │\n",
      "│            │           │ * there are 2 consumers: d and e.                                                                                                                                                                                                                                                                                              │\n",
      "│            │           │ * consumer d purchases from suppliers a and b, while consumer e purchases only from supplier c.                                                                                                                                                                                                                                │\n",
      "│            │           │ * supplier a can deliver 10 tons within 6 days, supplier b can deliver 5 tons within 8 days, and supplier c can deliver 5 tons within 5 days.                                                                                                                                                                                  │\n",
      "│            │           │ * the scenario assumes that the transportation time and capacity of each supplier are the only factors affecting the delivery time and quantity of lithium hydroxide.                                                                                                                                                          │\n",
      "│            │           │ * the scenario also assumes that there are no other external factors or events that could disrupt the supply chain, such as natural disasters, political instability, or changes in global demand.                                                                                                                             │\n",
      "├────────────┼───────────┼────────────────────────────────────────────────────────────────────────────────────────────────────────────────────────────────────────────────────────────────────────────────────────────────────────────────────────────────────────────────────────────────────────────────────────────────────────────────────────────────┤\n",
      "│          0 │ User      │ Can you remind the the scenario I have told you already in a sequence?                                                                                                                                                                                                                                                         │\n",
      "├────────────┼───────────┼────────────────────────────────────────────────────────────────────────────────────────────────────────────────────────────────────────────────────────────────────────────────────────────────────────────────────────────────────────────────────────────────────────────────────────────────────────────────────────────────┤\n",
      "│          0 │ Assistant │ of course! here is the sequence of events you provided:                                                                                                                                                                                                                                                                        │\n",
      "│            │           │ 1. there are 3 suppliers of lithium hydroxide: a, b, and c.                                                                                                                                                                                                                                                                    │\n",
      "│            │           │ 2. supplier a is located in country z, while suppliers b and c are located in country t.                                                                                                                                                                                                                                       │\n",
      "│            │           │ 3. there are 2 consumers: d and e.                                                                                                                                                                                                                                                                                             │\n",
      "│            │           │ 4. consumer d purchases from suppliers a and b, while consumer e purchases only from supplier c.                                                                                                                                                                                                                               │\n",
      "│            │           │ 5. supplier a can deliver 10 tons within 6 days, supplier b can deliver 5 tons within 8 days, and supplier c can deliver 5 tons within 5 days.                                                                                                                                                                                 │\n",
      "│            │           │ 6. the scenario assumes that the transportation time and capacity of each supplier are the only factors affecting the delivery time and quantity of lithium hydroxide.                                                                                                                                                         │\n",
      "│            │           │ 7. the scenario also assumes that there are no other external factors or events that could disrupt the supply chain, such as natural disasters, political instability, or changes in global demand.                                                                                                                            │\n",
      "├────────────┼───────────┼────────────────────────────────────────────────────────────────────────────────────────────────────────────────────────────────────────────────────────────────────────────────────────────────────────────────────────────────────────────────────────────────────────────────────────────────────────────────────────────────┤\n",
      "│          0 │ User      │ You did it fine, but tell me more about consumers. From which vendor(s) do the consumers buy lithium hydroxide?                                                                                                                                                                                                                │\n",
      "├────────────┼───────────┼────────────────────────────────────────────────────────────────────────────────────────────────────────────────────────────────────────────────────────────────────────────────────────────────────────────────────────────────────────────────────────────────────────────────────────────────────────────────────────────────┤\n",
      "│          0 │ Assistant │ my apologies for not providing that information earlier. based on the scenario you provided, consumer 'd' purchases lithium hydroxide from both suppliers 'a' and 'b', while consumer 'e' purchases lithium hydroxide only from supplier 'c'.                                                                                  │\n",
      "│            │           │ so, the buying behavior of the consumers in the scenario is as follows:                                                                                                                                                                                                                                                        │\n",
      "│            │           │ * consumer 'd' buys from suppliers 'a' and 'b', and                                                                                                                                                                                                                                                                            │\n",
      "│            │           │ * consumer 'e' buys only from supplier 'c'.                                                                                                                                                                                                                                                                                    │\n",
      "├────────────┼───────────┼────────────────────────────────────────────────────────────────────────────────────────────────────────────────────────────────────────────────────────────────────────────────────────────────────────────────────────────────────────────────────────────────────────────────────────────────────────────────────────────────┤\n",
      "│          0 │ User      │ Great, but you made a little mistake about consumer D. This consumer does not buy anything from supplier C; however, they are at the same country! Please review your answers regarding this correction.                                                                                                                       │\n",
      "├────────────┼───────────┼────────────────────────────────────────────────────────────────────────────────────────────────────────────────────────────────────────────────────────────────────────────────────────────────────────────────────────────────────────────────────────────────────────────────────────────────────────────────────────────────┤\n",
      "│          0 │ Assistant │ my apologies, you are correct. thank you for pointing that out. here is the updated information regarding the buying behavior of the consumers in the scenario:                                                                                                                                                                │\n",
      "│            │           │ * consumer 'd' buys from suppliers 'a' and 'b', but does not buy from supplier 'c'.                                                                                                                                                                                                                                            │\n",
      "│            │           │ * consumer 'e' buys only from supplier 'c'.                                                                                                                                                                                                                                                                                    │\n",
      "│            │           │ i hope this is accurate. please let me know if you have any further questions or corrections.                                                                                                                                                                                                                                  │\n",
      "├────────────┼───────────┼────────────────────────────────────────────────────────────────────────────────────────────────────────────────────────────────────────────────────────────────────────────────────────────────────────────────────────────────────────────────────────────────────────────────────────────────────────────────────────────────┤\n",
      "│          0 │ User      │ Well, how much material do vendors buy in tons each? please provide me your calculation beside your answers.                                                                                                                                                                                                                   │\n",
      "├────────────┼───────────┼────────────────────────────────────────────────────────────────────────────────────────────────────────────────────────────────────────────────────────────────────────────────────────────────────────────────────────────────────────────────────────────────────────────────────────────────────────────────────────────────┤\n",
      "│          0 │ Assistant │ certainly! based on the information provided, here are the estimated tons of material that each vendor purchases per year:                                                                                                                                                                                                     │\n",
      "│            │           │ * supplier a:                                                                                                                                                                                                                                                                                                                  │\n",
      "│            │           │ * supplier b:                                                                                                                                                                                                                                                                                                                  │\n",
      "│            │           │ * supplier c:                                                                                                                                                                                                                                                                                                                  │\n",
      "│            │           │                                                                                                                                                                                                                                                                                                                                │\n",
      "│            │           │ to calculate the tons of material purchased by each vendor, we need to know the capacity of each supplier in terms of tons per day or week. let's assume that each supplier has a capacity of 100 tons per day.                                                                                                                │\n",
      "│            │           │ * supplier a: 100 tons/day x 30 days/month x 12 months/year = 36,000 tons/year                                                                                                                                                                                                                                                 │\n",
      "│            │           │ * supplier b: 100 tons/day x 30 days/month x 12 months/year = 36,000 tons/year                                                                                                                                                                                                                                                 │\n",
      "│            │           │ * supplier c: 100 tons/day x 30 days/month x 12 months/year = 36,000 tons/year                                                                                                                                                                                                                                                 │\n",
      "│            │           │ therefore, each vendor purchases approximately 36,000 tons of material per year.                                                                                                                                                                                                                                               │\n",
      "╰────────────┴───────────┴────────────────────────────────────────────────────────────────────────────────────────────────────────────────────────────────────────────────────────────────────────────────────────────────────────────────────────────────────────────────────────────────────────────────────────────────────────────────────────────────╯\n"
     ]
    }
   ],
   "source": [
    "# Let us print the whole conversation\n",
    "printastable( SC2_Dialogs , False )"
   ]
  },
  {
   "cell_type": "code",
   "execution_count": 39,
   "metadata": {},
   "outputs": [],
   "source": [
    "# Calculation is wrong, and we need to TEACH the model"
   ]
  },
  {
   "cell_type": "code",
   "execution_count": null,
   "metadata": {},
   "outputs": [],
   "source": []
  }
 ],
 "metadata": {
  "kernelspec": {
   "display_name": "Python 3",
   "language": "python",
   "name": "python3"
  },
  "language_info": {
   "codemirror_mode": {
    "name": "ipython",
    "version": 3
   },
   "file_extension": ".py",
   "mimetype": "text/x-python",
   "name": "python",
   "nbconvert_exporter": "python",
   "pygments_lexer": "ipython3",
   "version": "3.11.4"
  }
 },
 "nbformat": 4,
 "nbformat_minor": 2
}
